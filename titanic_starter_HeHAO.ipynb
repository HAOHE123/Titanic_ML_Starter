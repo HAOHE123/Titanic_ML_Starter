{
 "cells": [
  {
   "cell_type": "markdown",
   "id": "ba211571",
   "metadata": {
    "papermill": {
     "duration": 0.017591,
     "end_time": "2024-09-05T20:41:04.762429",
     "exception": false,
     "start_time": "2024-09-05T20:41:04.744838",
     "status": "completed"
    },
    "tags": []
   },
   "source": [
    "# Initialization"
   ]
  },
  {
   "cell_type": "code",
   "execution_count": 1,
   "id": "ab27e767",
   "metadata": {
    "execution": {
     "iopub.execute_input": "2024-09-05T20:41:04.797633Z",
     "iopub.status.busy": "2024-09-05T20:41:04.797103Z",
     "iopub.status.idle": "2024-09-05T20:41:04.803029Z",
     "shell.execute_reply": "2024-09-05T20:41:04.802040Z"
    },
    "papermill": {
     "duration": 0.025916,
     "end_time": "2024-09-05T20:41:04.805351",
     "exception": false,
     "start_time": "2024-09-05T20:41:04.779435",
     "status": "completed"
    },
    "tags": []
   },
   "outputs": [],
   "source": [
    "# First try in Kaggle to check the submission\n",
    "# My first starter used for myself\n",
    "# He HAO, Instituto Superior Técnico (https://github.com/HAOHE123)"
   ]
  },
  {
   "cell_type": "markdown",
   "id": "622421d1",
   "metadata": {
    "papermill": {
     "duration": 0.016795,
     "end_time": "2024-09-05T20:41:04.838909",
     "exception": false,
     "start_time": "2024-09-05T20:41:04.822114",
     "status": "completed"
    },
    "tags": []
   },
   "source": [
    "## Import Libs & Data"
   ]
  },
  {
   "cell_type": "code",
   "execution_count": 2,
   "id": "19ba28ae",
   "metadata": {
    "execution": {
     "iopub.execute_input": "2024-09-05T20:41:04.872820Z",
     "iopub.status.busy": "2024-09-05T20:41:04.872393Z",
     "iopub.status.idle": "2024-09-05T20:41:10.483063Z",
     "shell.execute_reply": "2024-09-05T20:41:10.481783Z"
    },
    "papermill": {
     "duration": 5.630822,
     "end_time": "2024-09-05T20:41:10.485838",
     "exception": false,
     "start_time": "2024-09-05T20:41:04.855016",
     "status": "completed"
    },
    "tags": []
   },
   "outputs": [],
   "source": [
    "# Essential Libraries\n",
    "import pandas as pd\n",
    "import numpy as np\n",
    "import matplotlib.pyplot as plt\n",
    "import seaborn as sns\n",
    "import torch\n",
    "import torch.nn as nn\n",
    "\n",
    "# Situational Libraries\n",
    "import matplotlib.patches as patches  # For adding shapes to plots\n",
    "from matplotlib import animation, rc  # For creating animations\n",
    "import os  # For interacting with the operating system\n",
    "import time  # For time-related functions\n",
    "import glob  # For file pattern matching\n",
    "import json  # For handling JSON data\n",
    "import collections  # For specialized container datatypes"
   ]
  },
  {
   "cell_type": "code",
   "execution_count": 3,
   "id": "2b2cf4c1",
   "metadata": {
    "execution": {
     "iopub.execute_input": "2024-09-05T20:41:10.520329Z",
     "iopub.status.busy": "2024-09-05T20:41:10.519658Z",
     "iopub.status.idle": "2024-09-05T20:41:10.528475Z",
     "shell.execute_reply": "2024-09-05T20:41:10.527271Z"
    },
    "papermill": {
     "duration": 0.028748,
     "end_time": "2024-09-05T20:41:10.530870",
     "exception": false,
     "start_time": "2024-09-05T20:41:10.502122",
     "status": "completed"
    },
    "tags": []
   },
   "outputs": [
    {
     "name": "stdout",
     "output_type": "stream",
     "text": [
      "/kaggle/input/titanic/train.csv\n",
      "/kaggle/input/titanic/test.csv\n",
      "/kaggle/input/titanic/gender_submission.csv\n"
     ]
    }
   ],
   "source": [
    "# Check all files\n",
    "for dirname, _, filenames in os.walk('/kaggle/input'):\n",
    "    for filename in filenames:\n",
    "        print(os.path.join(dirname, filename))"
   ]
  },
  {
   "cell_type": "code",
   "execution_count": 4,
   "id": "0a8da767",
   "metadata": {
    "execution": {
     "iopub.execute_input": "2024-09-05T20:41:10.567592Z",
     "iopub.status.busy": "2024-09-05T20:41:10.566568Z",
     "iopub.status.idle": "2024-09-05T20:41:10.605016Z",
     "shell.execute_reply": "2024-09-05T20:41:10.603588Z"
    },
    "papermill": {
     "duration": 0.059134,
     "end_time": "2024-09-05T20:41:10.607702",
     "exception": false,
     "start_time": "2024-09-05T20:41:10.548568",
     "status": "completed"
    },
    "tags": []
   },
   "outputs": [],
   "source": [
    "# Read the Data\n",
    "train_path = '/kaggle/input/titanic/'\n",
    "\n",
    "train = pd.read_csv(train_path + 'train.csv')\n",
    "test = pd.read_csv(train_path + 'test.csv')\n",
    "gender_sub = pd.read_csv(train_path + 'gender_submission.csv')"
   ]
  },
  {
   "cell_type": "code",
   "execution_count": 5,
   "id": "bb43bb9d",
   "metadata": {
    "execution": {
     "iopub.execute_input": "2024-09-05T20:41:10.642077Z",
     "iopub.status.busy": "2024-09-05T20:41:10.641661Z",
     "iopub.status.idle": "2024-09-05T20:41:10.647917Z",
     "shell.execute_reply": "2024-09-05T20:41:10.646605Z"
    },
    "papermill": {
     "duration": 0.026565,
     "end_time": "2024-09-05T20:41:10.650555",
     "exception": false,
     "start_time": "2024-09-05T20:41:10.623990",
     "status": "completed"
    },
    "tags": []
   },
   "outputs": [
    {
     "name": "stdout",
     "output_type": "stream",
     "text": [
      "['PassengerId' 'Survived' 'Pclass' 'Name' 'Sex' 'Age' 'SibSp' 'Parch'\n",
      " 'Ticket' 'Fare' 'Cabin' 'Embarked']\n"
     ]
    }
   ],
   "source": [
    "print(train.columns.values)"
   ]
  },
  {
   "cell_type": "code",
   "execution_count": 6,
   "id": "3b089dc6",
   "metadata": {
    "execution": {
     "iopub.execute_input": "2024-09-05T20:41:10.686188Z",
     "iopub.status.busy": "2024-09-05T20:41:10.685704Z",
     "iopub.status.idle": "2024-09-05T20:41:10.850254Z",
     "shell.execute_reply": "2024-09-05T20:41:10.848875Z"
    },
    "papermill": {
     "duration": 0.184833,
     "end_time": "2024-09-05T20:41:10.852727",
     "exception": false,
     "start_time": "2024-09-05T20:41:10.667894",
     "status": "completed"
    },
    "tags": []
   },
   "outputs": [
    {
     "name": "stdout",
     "output_type": "stream",
     "text": [
      "<class 'pandas.core.frame.DataFrame'>\n",
      "RangeIndex: 891 entries, 0 to 890\n",
      "Data columns (total 12 columns):\n",
      " #   Column       Non-Null Count  Dtype  \n",
      "---  ------       --------------  -----  \n",
      " 0   PassengerId  891 non-null    int64  \n",
      " 1   Survived     891 non-null    int64  \n",
      " 2   Pclass       891 non-null    int64  \n",
      " 3   Name         891 non-null    object \n",
      " 4   Sex          891 non-null    object \n",
      " 5   Age          714 non-null    float64\n",
      " 6   SibSp        891 non-null    int64  \n",
      " 7   Parch        891 non-null    int64  \n",
      " 8   Ticket       891 non-null    object \n",
      " 9   Fare         891 non-null    float64\n",
      " 10  Cabin        204 non-null    object \n",
      " 11  Embarked     889 non-null    object \n",
      "dtypes: float64(2), int64(5), object(5)\n",
      "memory usage: 83.7+ KB\n"
     ]
    }
   ],
   "source": [
    "train.info()"
   ]
  },
  {
   "cell_type": "code",
   "execution_count": 7,
   "id": "2656e62d",
   "metadata": {
    "execution": {
     "iopub.execute_input": "2024-09-05T20:41:10.887648Z",
     "iopub.status.busy": "2024-09-05T20:41:10.887229Z",
     "iopub.status.idle": "2024-09-05T20:41:10.910682Z",
     "shell.execute_reply": "2024-09-05T20:41:10.909374Z"
    },
    "papermill": {
     "duration": 0.044093,
     "end_time": "2024-09-05T20:41:10.913188",
     "exception": false,
     "start_time": "2024-09-05T20:41:10.869095",
     "status": "completed"
    },
    "tags": []
   },
   "outputs": [
    {
     "data": {
      "text/html": [
       "<div>\n",
       "<style scoped>\n",
       "    .dataframe tbody tr th:only-of-type {\n",
       "        vertical-align: middle;\n",
       "    }\n",
       "\n",
       "    .dataframe tbody tr th {\n",
       "        vertical-align: top;\n",
       "    }\n",
       "\n",
       "    .dataframe thead th {\n",
       "        text-align: right;\n",
       "    }\n",
       "</style>\n",
       "<table border=\"1\" class=\"dataframe\">\n",
       "  <thead>\n",
       "    <tr style=\"text-align: right;\">\n",
       "      <th></th>\n",
       "      <th>PassengerId</th>\n",
       "      <th>Survived</th>\n",
       "      <th>Pclass</th>\n",
       "      <th>Name</th>\n",
       "      <th>Sex</th>\n",
       "      <th>Age</th>\n",
       "      <th>SibSp</th>\n",
       "      <th>Parch</th>\n",
       "      <th>Ticket</th>\n",
       "      <th>Fare</th>\n",
       "      <th>Cabin</th>\n",
       "      <th>Embarked</th>\n",
       "    </tr>\n",
       "  </thead>\n",
       "  <tbody>\n",
       "    <tr>\n",
       "      <th>0</th>\n",
       "      <td>1</td>\n",
       "      <td>0</td>\n",
       "      <td>3</td>\n",
       "      <td>Braund, Mr. Owen Harris</td>\n",
       "      <td>male</td>\n",
       "      <td>22.0</td>\n",
       "      <td>1</td>\n",
       "      <td>0</td>\n",
       "      <td>A/5 21171</td>\n",
       "      <td>7.2500</td>\n",
       "      <td>NaN</td>\n",
       "      <td>S</td>\n",
       "    </tr>\n",
       "    <tr>\n",
       "      <th>1</th>\n",
       "      <td>2</td>\n",
       "      <td>1</td>\n",
       "      <td>1</td>\n",
       "      <td>Cumings, Mrs. John Bradley (Florence Briggs Th...</td>\n",
       "      <td>female</td>\n",
       "      <td>38.0</td>\n",
       "      <td>1</td>\n",
       "      <td>0</td>\n",
       "      <td>PC 17599</td>\n",
       "      <td>71.2833</td>\n",
       "      <td>C85</td>\n",
       "      <td>C</td>\n",
       "    </tr>\n",
       "    <tr>\n",
       "      <th>2</th>\n",
       "      <td>3</td>\n",
       "      <td>1</td>\n",
       "      <td>3</td>\n",
       "      <td>Heikkinen, Miss. Laina</td>\n",
       "      <td>female</td>\n",
       "      <td>26.0</td>\n",
       "      <td>0</td>\n",
       "      <td>0</td>\n",
       "      <td>STON/O2. 3101282</td>\n",
       "      <td>7.9250</td>\n",
       "      <td>NaN</td>\n",
       "      <td>S</td>\n",
       "    </tr>\n",
       "    <tr>\n",
       "      <th>3</th>\n",
       "      <td>4</td>\n",
       "      <td>1</td>\n",
       "      <td>1</td>\n",
       "      <td>Futrelle, Mrs. Jacques Heath (Lily May Peel)</td>\n",
       "      <td>female</td>\n",
       "      <td>35.0</td>\n",
       "      <td>1</td>\n",
       "      <td>0</td>\n",
       "      <td>113803</td>\n",
       "      <td>53.1000</td>\n",
       "      <td>C123</td>\n",
       "      <td>S</td>\n",
       "    </tr>\n",
       "    <tr>\n",
       "      <th>4</th>\n",
       "      <td>5</td>\n",
       "      <td>0</td>\n",
       "      <td>3</td>\n",
       "      <td>Allen, Mr. William Henry</td>\n",
       "      <td>male</td>\n",
       "      <td>35.0</td>\n",
       "      <td>0</td>\n",
       "      <td>0</td>\n",
       "      <td>373450</td>\n",
       "      <td>8.0500</td>\n",
       "      <td>NaN</td>\n",
       "      <td>S</td>\n",
       "    </tr>\n",
       "  </tbody>\n",
       "</table>\n",
       "</div>"
      ],
      "text/plain": [
       "   PassengerId  Survived  Pclass  \\\n",
       "0            1         0       3   \n",
       "1            2         1       1   \n",
       "2            3         1       3   \n",
       "3            4         1       1   \n",
       "4            5         0       3   \n",
       "\n",
       "                                                Name     Sex   Age  SibSp  \\\n",
       "0                            Braund, Mr. Owen Harris    male  22.0      1   \n",
       "1  Cumings, Mrs. John Bradley (Florence Briggs Th...  female  38.0      1   \n",
       "2                             Heikkinen, Miss. Laina  female  26.0      0   \n",
       "3       Futrelle, Mrs. Jacques Heath (Lily May Peel)  female  35.0      1   \n",
       "4                           Allen, Mr. William Henry    male  35.0      0   \n",
       "\n",
       "   Parch            Ticket     Fare Cabin Embarked  \n",
       "0      0         A/5 21171   7.2500   NaN        S  \n",
       "1      0          PC 17599  71.2833   C85        C  \n",
       "2      0  STON/O2. 3101282   7.9250   NaN        S  \n",
       "3      0            113803  53.1000  C123        S  \n",
       "4      0            373450   8.0500   NaN        S  "
      ]
     },
     "execution_count": 7,
     "metadata": {},
     "output_type": "execute_result"
    }
   ],
   "source": [
    "train.head()"
   ]
  },
  {
   "cell_type": "code",
   "execution_count": 8,
   "id": "4cddf78e",
   "metadata": {
    "execution": {
     "iopub.execute_input": "2024-09-05T20:41:10.948908Z",
     "iopub.status.busy": "2024-09-05T20:41:10.948071Z",
     "iopub.status.idle": "2024-09-05T20:41:10.964174Z",
     "shell.execute_reply": "2024-09-05T20:41:10.963078Z"
    },
    "papermill": {
     "duration": 0.036386,
     "end_time": "2024-09-05T20:41:10.966499",
     "exception": false,
     "start_time": "2024-09-05T20:41:10.930113",
     "status": "completed"
    },
    "tags": []
   },
   "outputs": [
    {
     "data": {
      "text/html": [
       "<div>\n",
       "<style scoped>\n",
       "    .dataframe tbody tr th:only-of-type {\n",
       "        vertical-align: middle;\n",
       "    }\n",
       "\n",
       "    .dataframe tbody tr th {\n",
       "        vertical-align: top;\n",
       "    }\n",
       "\n",
       "    .dataframe thead th {\n",
       "        text-align: right;\n",
       "    }\n",
       "</style>\n",
       "<table border=\"1\" class=\"dataframe\">\n",
       "  <thead>\n",
       "    <tr style=\"text-align: right;\">\n",
       "      <th></th>\n",
       "      <th>PassengerId</th>\n",
       "      <th>Pclass</th>\n",
       "      <th>Name</th>\n",
       "      <th>Sex</th>\n",
       "      <th>Age</th>\n",
       "      <th>SibSp</th>\n",
       "      <th>Parch</th>\n",
       "      <th>Ticket</th>\n",
       "      <th>Fare</th>\n",
       "      <th>Cabin</th>\n",
       "      <th>Embarked</th>\n",
       "    </tr>\n",
       "  </thead>\n",
       "  <tbody>\n",
       "    <tr>\n",
       "      <th>0</th>\n",
       "      <td>892</td>\n",
       "      <td>3</td>\n",
       "      <td>Kelly, Mr. James</td>\n",
       "      <td>male</td>\n",
       "      <td>34.5</td>\n",
       "      <td>0</td>\n",
       "      <td>0</td>\n",
       "      <td>330911</td>\n",
       "      <td>7.8292</td>\n",
       "      <td>NaN</td>\n",
       "      <td>Q</td>\n",
       "    </tr>\n",
       "    <tr>\n",
       "      <th>1</th>\n",
       "      <td>893</td>\n",
       "      <td>3</td>\n",
       "      <td>Wilkes, Mrs. James (Ellen Needs)</td>\n",
       "      <td>female</td>\n",
       "      <td>47.0</td>\n",
       "      <td>1</td>\n",
       "      <td>0</td>\n",
       "      <td>363272</td>\n",
       "      <td>7.0000</td>\n",
       "      <td>NaN</td>\n",
       "      <td>S</td>\n",
       "    </tr>\n",
       "    <tr>\n",
       "      <th>2</th>\n",
       "      <td>894</td>\n",
       "      <td>2</td>\n",
       "      <td>Myles, Mr. Thomas Francis</td>\n",
       "      <td>male</td>\n",
       "      <td>62.0</td>\n",
       "      <td>0</td>\n",
       "      <td>0</td>\n",
       "      <td>240276</td>\n",
       "      <td>9.6875</td>\n",
       "      <td>NaN</td>\n",
       "      <td>Q</td>\n",
       "    </tr>\n",
       "    <tr>\n",
       "      <th>3</th>\n",
       "      <td>895</td>\n",
       "      <td>3</td>\n",
       "      <td>Wirz, Mr. Albert</td>\n",
       "      <td>male</td>\n",
       "      <td>27.0</td>\n",
       "      <td>0</td>\n",
       "      <td>0</td>\n",
       "      <td>315154</td>\n",
       "      <td>8.6625</td>\n",
       "      <td>NaN</td>\n",
       "      <td>S</td>\n",
       "    </tr>\n",
       "    <tr>\n",
       "      <th>4</th>\n",
       "      <td>896</td>\n",
       "      <td>3</td>\n",
       "      <td>Hirvonen, Mrs. Alexander (Helga E Lindqvist)</td>\n",
       "      <td>female</td>\n",
       "      <td>22.0</td>\n",
       "      <td>1</td>\n",
       "      <td>1</td>\n",
       "      <td>3101298</td>\n",
       "      <td>12.2875</td>\n",
       "      <td>NaN</td>\n",
       "      <td>S</td>\n",
       "    </tr>\n",
       "  </tbody>\n",
       "</table>\n",
       "</div>"
      ],
      "text/plain": [
       "   PassengerId  Pclass                                          Name     Sex  \\\n",
       "0          892       3                              Kelly, Mr. James    male   \n",
       "1          893       3              Wilkes, Mrs. James (Ellen Needs)  female   \n",
       "2          894       2                     Myles, Mr. Thomas Francis    male   \n",
       "3          895       3                              Wirz, Mr. Albert    male   \n",
       "4          896       3  Hirvonen, Mrs. Alexander (Helga E Lindqvist)  female   \n",
       "\n",
       "    Age  SibSp  Parch   Ticket     Fare Cabin Embarked  \n",
       "0  34.5      0      0   330911   7.8292   NaN        Q  \n",
       "1  47.0      1      0   363272   7.0000   NaN        S  \n",
       "2  62.0      0      0   240276   9.6875   NaN        Q  \n",
       "3  27.0      0      0   315154   8.6625   NaN        S  \n",
       "4  22.0      1      1  3101298  12.2875   NaN        S  "
      ]
     },
     "execution_count": 8,
     "metadata": {},
     "output_type": "execute_result"
    }
   ],
   "source": [
    "test.head()"
   ]
  },
  {
   "cell_type": "code",
   "execution_count": 9,
   "id": "6197abe6",
   "metadata": {
    "execution": {
     "iopub.execute_input": "2024-09-05T20:41:11.002208Z",
     "iopub.status.busy": "2024-09-05T20:41:11.001763Z",
     "iopub.status.idle": "2024-09-05T20:41:11.012226Z",
     "shell.execute_reply": "2024-09-05T20:41:11.010973Z"
    },
    "papermill": {
     "duration": 0.031011,
     "end_time": "2024-09-05T20:41:11.014457",
     "exception": false,
     "start_time": "2024-09-05T20:41:10.983446",
     "status": "completed"
    },
    "tags": []
   },
   "outputs": [
    {
     "data": {
      "text/html": [
       "<div>\n",
       "<style scoped>\n",
       "    .dataframe tbody tr th:only-of-type {\n",
       "        vertical-align: middle;\n",
       "    }\n",
       "\n",
       "    .dataframe tbody tr th {\n",
       "        vertical-align: top;\n",
       "    }\n",
       "\n",
       "    .dataframe thead th {\n",
       "        text-align: right;\n",
       "    }\n",
       "</style>\n",
       "<table border=\"1\" class=\"dataframe\">\n",
       "  <thead>\n",
       "    <tr style=\"text-align: right;\">\n",
       "      <th></th>\n",
       "      <th>PassengerId</th>\n",
       "      <th>Survived</th>\n",
       "    </tr>\n",
       "  </thead>\n",
       "  <tbody>\n",
       "    <tr>\n",
       "      <th>0</th>\n",
       "      <td>892</td>\n",
       "      <td>0</td>\n",
       "    </tr>\n",
       "    <tr>\n",
       "      <th>1</th>\n",
       "      <td>893</td>\n",
       "      <td>1</td>\n",
       "    </tr>\n",
       "    <tr>\n",
       "      <th>2</th>\n",
       "      <td>894</td>\n",
       "      <td>0</td>\n",
       "    </tr>\n",
       "    <tr>\n",
       "      <th>3</th>\n",
       "      <td>895</td>\n",
       "      <td>0</td>\n",
       "    </tr>\n",
       "    <tr>\n",
       "      <th>4</th>\n",
       "      <td>896</td>\n",
       "      <td>1</td>\n",
       "    </tr>\n",
       "  </tbody>\n",
       "</table>\n",
       "</div>"
      ],
      "text/plain": [
       "   PassengerId  Survived\n",
       "0          892         0\n",
       "1          893         1\n",
       "2          894         0\n",
       "3          895         0\n",
       "4          896         1"
      ]
     },
     "execution_count": 9,
     "metadata": {},
     "output_type": "execute_result"
    }
   ],
   "source": [
    "gender_sub.head()"
   ]
  },
  {
   "cell_type": "markdown",
   "id": "9cf8a712",
   "metadata": {
    "papermill": {
     "duration": 0.017068,
     "end_time": "2024-09-05T20:41:11.048638",
     "exception": false,
     "start_time": "2024-09-05T20:41:11.031570",
     "status": "completed"
    },
    "tags": []
   },
   "source": [
    "# Data Analyze"
   ]
  },
  {
   "cell_type": "code",
   "execution_count": 10,
   "id": "a6e799e6",
   "metadata": {
    "execution": {
     "iopub.execute_input": "2024-09-05T20:41:11.084961Z",
     "iopub.status.busy": "2024-09-05T20:41:11.084537Z",
     "iopub.status.idle": "2024-09-05T20:41:11.102805Z",
     "shell.execute_reply": "2024-09-05T20:41:11.101546Z"
    },
    "papermill": {
     "duration": 0.039193,
     "end_time": "2024-09-05T20:41:11.105179",
     "exception": false,
     "start_time": "2024-09-05T20:41:11.065986",
     "status": "completed"
    },
    "tags": []
   },
   "outputs": [
    {
     "data": {
      "text/html": [
       "<div>\n",
       "<style scoped>\n",
       "    .dataframe tbody tr th:only-of-type {\n",
       "        vertical-align: middle;\n",
       "    }\n",
       "\n",
       "    .dataframe tbody tr th {\n",
       "        vertical-align: top;\n",
       "    }\n",
       "\n",
       "    .dataframe thead th {\n",
       "        text-align: right;\n",
       "    }\n",
       "</style>\n",
       "<table border=\"1\" class=\"dataframe\">\n",
       "  <thead>\n",
       "    <tr style=\"text-align: right;\">\n",
       "      <th></th>\n",
       "      <th>Sex</th>\n",
       "      <th>Survived</th>\n",
       "    </tr>\n",
       "  </thead>\n",
       "  <tbody>\n",
       "    <tr>\n",
       "      <th>0</th>\n",
       "      <td>female</td>\n",
       "      <td>0.742038</td>\n",
       "    </tr>\n",
       "    <tr>\n",
       "      <th>1</th>\n",
       "      <td>male</td>\n",
       "      <td>0.188908</td>\n",
       "    </tr>\n",
       "  </tbody>\n",
       "</table>\n",
       "</div>"
      ],
      "text/plain": [
       "      Sex  Survived\n",
       "0  female  0.742038\n",
       "1    male  0.188908"
      ]
     },
     "execution_count": 10,
     "metadata": {},
     "output_type": "execute_result"
    }
   ],
   "source": [
    "train[['Sex', 'Survived']].groupby(['Sex'], as_index=False).mean().sort_values(by='Survived', ascending=False)"
   ]
  },
  {
   "cell_type": "code",
   "execution_count": 11,
   "id": "b8e8aa0b",
   "metadata": {
    "execution": {
     "iopub.execute_input": "2024-09-05T20:41:11.141338Z",
     "iopub.status.busy": "2024-09-05T20:41:11.140835Z",
     "iopub.status.idle": "2024-09-05T20:41:11.155665Z",
     "shell.execute_reply": "2024-09-05T20:41:11.154455Z"
    },
    "papermill": {
     "duration": 0.036183,
     "end_time": "2024-09-05T20:41:11.158398",
     "exception": false,
     "start_time": "2024-09-05T20:41:11.122215",
     "status": "completed"
    },
    "tags": []
   },
   "outputs": [
    {
     "data": {
      "text/html": [
       "<div>\n",
       "<style scoped>\n",
       "    .dataframe tbody tr th:only-of-type {\n",
       "        vertical-align: middle;\n",
       "    }\n",
       "\n",
       "    .dataframe tbody tr th {\n",
       "        vertical-align: top;\n",
       "    }\n",
       "\n",
       "    .dataframe thead th {\n",
       "        text-align: right;\n",
       "    }\n",
       "</style>\n",
       "<table border=\"1\" class=\"dataframe\">\n",
       "  <thead>\n",
       "    <tr style=\"text-align: right;\">\n",
       "      <th></th>\n",
       "      <th>Pclass</th>\n",
       "      <th>Survived</th>\n",
       "    </tr>\n",
       "  </thead>\n",
       "  <tbody>\n",
       "    <tr>\n",
       "      <th>0</th>\n",
       "      <td>1</td>\n",
       "      <td>0.629630</td>\n",
       "    </tr>\n",
       "    <tr>\n",
       "      <th>1</th>\n",
       "      <td>2</td>\n",
       "      <td>0.472826</td>\n",
       "    </tr>\n",
       "    <tr>\n",
       "      <th>2</th>\n",
       "      <td>3</td>\n",
       "      <td>0.242363</td>\n",
       "    </tr>\n",
       "  </tbody>\n",
       "</table>\n",
       "</div>"
      ],
      "text/plain": [
       "   Pclass  Survived\n",
       "0       1  0.629630\n",
       "1       2  0.472826\n",
       "2       3  0.242363"
      ]
     },
     "execution_count": 11,
     "metadata": {},
     "output_type": "execute_result"
    }
   ],
   "source": [
    "train[['Pclass', 'Survived']].groupby(['Pclass'], as_index=False).mean().sort_values(by='Survived', ascending=False)"
   ]
  },
  {
   "cell_type": "code",
   "execution_count": 12,
   "id": "f149198d",
   "metadata": {
    "execution": {
     "iopub.execute_input": "2024-09-05T20:41:11.196997Z",
     "iopub.status.busy": "2024-09-05T20:41:11.196145Z",
     "iopub.status.idle": "2024-09-05T20:41:11.216597Z",
     "shell.execute_reply": "2024-09-05T20:41:11.215108Z"
    },
    "papermill": {
     "duration": 0.042585,
     "end_time": "2024-09-05T20:41:11.219163",
     "exception": false,
     "start_time": "2024-09-05T20:41:11.176578",
     "status": "completed"
    },
    "tags": []
   },
   "outputs": [
    {
     "name": "stdout",
     "output_type": "stream",
     "text": [
      "      AgeGroup  Survived\n",
      "0        Child  0.579710\n",
      "1         Teen  0.428571\n",
      "3        Adult  0.400000\n",
      "2  Young Adult  0.382682\n",
      "4       Senior  0.227273\n"
     ]
    }
   ],
   "source": [
    "# Age cannot be sorted directly\n",
    "# Define age bins\n",
    "bins = [0, 12, 18, 35, 60, 100]\n",
    "labels = ['Child', 'Teen', 'Young Adult', 'Adult', 'Senior']\n",
    "\n",
    "# Create a new column with age groups\n",
    "train['AgeGroup'] = pd.cut(train['Age'], bins=bins, labels=labels)\n",
    "\n",
    "# Group by the new AgeGroup column\n",
    "\n",
    "age_grouped = train[['AgeGroup', 'Survived']].groupby(['AgeGroup'], as_index=False, observed=True).mean().sort_values(by='Survived', ascending=False)\n",
    "print(age_grouped)"
   ]
  },
  {
   "cell_type": "code",
   "execution_count": 13,
   "id": "6ed37eb9",
   "metadata": {
    "execution": {
     "iopub.execute_input": "2024-09-05T20:41:11.256930Z",
     "iopub.status.busy": "2024-09-05T20:41:11.256466Z",
     "iopub.status.idle": "2024-09-05T20:41:11.271675Z",
     "shell.execute_reply": "2024-09-05T20:41:11.270596Z"
    },
    "papermill": {
     "duration": 0.037406,
     "end_time": "2024-09-05T20:41:11.274142",
     "exception": false,
     "start_time": "2024-09-05T20:41:11.236736",
     "status": "completed"
    },
    "tags": []
   },
   "outputs": [
    {
     "data": {
      "text/html": [
       "<div>\n",
       "<style scoped>\n",
       "    .dataframe tbody tr th:only-of-type {\n",
       "        vertical-align: middle;\n",
       "    }\n",
       "\n",
       "    .dataframe tbody tr th {\n",
       "        vertical-align: top;\n",
       "    }\n",
       "\n",
       "    .dataframe thead th {\n",
       "        text-align: right;\n",
       "    }\n",
       "</style>\n",
       "<table border=\"1\" class=\"dataframe\">\n",
       "  <thead>\n",
       "    <tr style=\"text-align: right;\">\n",
       "      <th></th>\n",
       "      <th>SibSp</th>\n",
       "      <th>Survived</th>\n",
       "    </tr>\n",
       "  </thead>\n",
       "  <tbody>\n",
       "    <tr>\n",
       "      <th>1</th>\n",
       "      <td>1</td>\n",
       "      <td>0.535885</td>\n",
       "    </tr>\n",
       "    <tr>\n",
       "      <th>2</th>\n",
       "      <td>2</td>\n",
       "      <td>0.464286</td>\n",
       "    </tr>\n",
       "    <tr>\n",
       "      <th>0</th>\n",
       "      <td>0</td>\n",
       "      <td>0.345395</td>\n",
       "    </tr>\n",
       "    <tr>\n",
       "      <th>3</th>\n",
       "      <td>3</td>\n",
       "      <td>0.250000</td>\n",
       "    </tr>\n",
       "    <tr>\n",
       "      <th>4</th>\n",
       "      <td>4</td>\n",
       "      <td>0.166667</td>\n",
       "    </tr>\n",
       "    <tr>\n",
       "      <th>5</th>\n",
       "      <td>5</td>\n",
       "      <td>0.000000</td>\n",
       "    </tr>\n",
       "    <tr>\n",
       "      <th>6</th>\n",
       "      <td>8</td>\n",
       "      <td>0.000000</td>\n",
       "    </tr>\n",
       "  </tbody>\n",
       "</table>\n",
       "</div>"
      ],
      "text/plain": [
       "   SibSp  Survived\n",
       "1      1  0.535885\n",
       "2      2  0.464286\n",
       "0      0  0.345395\n",
       "3      3  0.250000\n",
       "4      4  0.166667\n",
       "5      5  0.000000\n",
       "6      8  0.000000"
      ]
     },
     "execution_count": 13,
     "metadata": {},
     "output_type": "execute_result"
    }
   ],
   "source": [
    "# The close relationship members\n",
    "train[['SibSp', 'Survived']].groupby(['SibSp'], as_index=False).mean().sort_values(by='Survived', ascending=False)"
   ]
  },
  {
   "cell_type": "code",
   "execution_count": 14,
   "id": "b436b874",
   "metadata": {
    "execution": {
     "iopub.execute_input": "2024-09-05T20:41:11.315661Z",
     "iopub.status.busy": "2024-09-05T20:41:11.315244Z",
     "iopub.status.idle": "2024-09-05T20:41:11.342197Z",
     "shell.execute_reply": "2024-09-05T20:41:11.340061Z"
    },
    "papermill": {
     "duration": 0.055067,
     "end_time": "2024-09-05T20:41:11.346795",
     "exception": false,
     "start_time": "2024-09-05T20:41:11.291728",
     "status": "completed"
    },
    "tags": []
   },
   "outputs": [
    {
     "data": {
      "text/html": [
       "<div>\n",
       "<style scoped>\n",
       "    .dataframe tbody tr th:only-of-type {\n",
       "        vertical-align: middle;\n",
       "    }\n",
       "\n",
       "    .dataframe tbody tr th {\n",
       "        vertical-align: top;\n",
       "    }\n",
       "\n",
       "    .dataframe thead th {\n",
       "        text-align: right;\n",
       "    }\n",
       "</style>\n",
       "<table border=\"1\" class=\"dataframe\">\n",
       "  <thead>\n",
       "    <tr style=\"text-align: right;\">\n",
       "      <th></th>\n",
       "      <th>Parch</th>\n",
       "      <th>Survived</th>\n",
       "    </tr>\n",
       "  </thead>\n",
       "  <tbody>\n",
       "    <tr>\n",
       "      <th>3</th>\n",
       "      <td>3</td>\n",
       "      <td>0.600000</td>\n",
       "    </tr>\n",
       "    <tr>\n",
       "      <th>1</th>\n",
       "      <td>1</td>\n",
       "      <td>0.550847</td>\n",
       "    </tr>\n",
       "    <tr>\n",
       "      <th>2</th>\n",
       "      <td>2</td>\n",
       "      <td>0.500000</td>\n",
       "    </tr>\n",
       "    <tr>\n",
       "      <th>0</th>\n",
       "      <td>0</td>\n",
       "      <td>0.343658</td>\n",
       "    </tr>\n",
       "    <tr>\n",
       "      <th>5</th>\n",
       "      <td>5</td>\n",
       "      <td>0.200000</td>\n",
       "    </tr>\n",
       "    <tr>\n",
       "      <th>4</th>\n",
       "      <td>4</td>\n",
       "      <td>0.000000</td>\n",
       "    </tr>\n",
       "    <tr>\n",
       "      <th>6</th>\n",
       "      <td>6</td>\n",
       "      <td>0.000000</td>\n",
       "    </tr>\n",
       "  </tbody>\n",
       "</table>\n",
       "</div>"
      ],
      "text/plain": [
       "   Parch  Survived\n",
       "3      3  0.600000\n",
       "1      1  0.550847\n",
       "2      2  0.500000\n",
       "0      0  0.343658\n",
       "5      5  0.200000\n",
       "4      4  0.000000\n",
       "6      6  0.000000"
      ]
     },
     "execution_count": 14,
     "metadata": {},
     "output_type": "execute_result"
    }
   ],
   "source": [
    "train[['Parch', 'Survived']].groupby(['Parch'], as_index=False).mean().sort_values(by='Survived', ascending=False)"
   ]
  },
  {
   "cell_type": "markdown",
   "id": "a557ed4b",
   "metadata": {
    "papermill": {
     "duration": 0.021579,
     "end_time": "2024-09-05T20:41:11.391876",
     "exception": false,
     "start_time": "2024-09-05T20:41:11.370297",
     "status": "completed"
    },
    "tags": []
   },
   "source": [
    "## Data Visualization"
   ]
  },
  {
   "cell_type": "code",
   "execution_count": 15,
   "id": "6319cbfd",
   "metadata": {
    "execution": {
     "iopub.execute_input": "2024-09-05T20:41:11.437513Z",
     "iopub.status.busy": "2024-09-05T20:41:11.437073Z",
     "iopub.status.idle": "2024-09-05T20:41:11.908330Z",
     "shell.execute_reply": "2024-09-05T20:41:11.906816Z"
    },
    "papermill": {
     "duration": 0.500148,
     "end_time": "2024-09-05T20:41:11.911291",
     "exception": false,
     "start_time": "2024-09-05T20:41:11.411143",
     "status": "completed"
    },
    "tags": []
   },
   "outputs": [
    {
     "name": "stderr",
     "output_type": "stream",
     "text": [
      "/opt/conda/lib/python3.10/site-packages/seaborn/_oldcore.py:1119: FutureWarning: use_inf_as_na option is deprecated and will be removed in a future version. Convert inf values to NaN before operating instead.\n",
      "  with pd.option_context('mode.use_inf_as_na', True):\n",
      "/opt/conda/lib/python3.10/site-packages/seaborn/_oldcore.py:1075: FutureWarning: When grouping with a length-1 list-like, you will need to pass a length-1 tuple to get_group in a future version of pandas. Pass `(name,)` instead of `name` to silence this warning.\n",
      "  data_subset = grouped_data.get_group(pd_key)\n",
      "/opt/conda/lib/python3.10/site-packages/seaborn/_oldcore.py:1075: FutureWarning: When grouping with a length-1 list-like, you will need to pass a length-1 tuple to get_group in a future version of pandas. Pass `(name,)` instead of `name` to silence this warning.\n",
      "  data_subset = grouped_data.get_group(pd_key)\n",
      "/opt/conda/lib/python3.10/site-packages/seaborn/_oldcore.py:1075: FutureWarning: When grouping with a length-1 list-like, you will need to pass a length-1 tuple to get_group in a future version of pandas. Pass `(name,)` instead of `name` to silence this warning.\n",
      "  data_subset = grouped_data.get_group(pd_key)\n"
     ]
    },
    {
     "data": {
      "image/png": "[encoded data removed]",
      "text/plain": [
       "<Figure size 1000x600 with 1 Axes>"
      ]
     },
     "metadata": {},
     "output_type": "display_data"
    }
   ],
   "source": [
    "# The survivial rate decrease rapidly when age is higher than 60, while increase a lot when age lower than 10 \n",
    "# Create a plot to visualize survival rate by age\n",
    "plt.figure(figsize=(10, 6))\n",
    "\n",
    "sns.histplot(data=train, x='Age', hue='Survived', multiple='stack', bins=20, kde=False)\n",
    "plt.title('Survival Rate by Age')\n",
    "plt.xlabel('Age')\n",
    "plt.ylabel('Count')\n",
    "plt.show()"
   ]
  },
  {
   "cell_type": "code",
   "execution_count": 16,
   "id": "36e7160b",
   "metadata": {
    "execution": {
     "iopub.execute_input": "2024-09-05T20:41:11.952896Z",
     "iopub.status.busy": "2024-09-05T20:41:11.952405Z",
     "iopub.status.idle": "2024-09-05T20:41:11.957882Z",
     "shell.execute_reply": "2024-09-05T20:41:11.956530Z"
    },
    "papermill": {
     "duration": 0.029853,
     "end_time": "2024-09-05T20:41:11.960542",
     "exception": false,
     "start_time": "2024-09-05T20:41:11.930689",
     "status": "completed"
    },
    "tags": []
   },
   "outputs": [],
   "source": [
    "# Other data is easily differentiable\n",
    "# Use Chatgpt to generate part of the following figures codes"
   ]
  },
  {
   "cell_type": "code",
   "execution_count": 17,
   "id": "732b8e65",
   "metadata": {
    "execution": {
     "iopub.execute_input": "2024-09-05T20:41:12.001262Z",
     "iopub.status.busy": "2024-09-05T20:41:12.000801Z",
     "iopub.status.idle": "2024-09-05T20:41:12.513339Z",
     "shell.execute_reply": "2024-09-05T20:41:12.512112Z"
    },
    "papermill": {
     "duration": 0.536357,
     "end_time": "2024-09-05T20:41:12.516120",
     "exception": false,
     "start_time": "2024-09-05T20:41:11.979763",
     "status": "completed"
    },
    "tags": []
   },
   "outputs": [
    {
     "data": {
      "image/png": "[encoded data removed]",
      "text/plain": [
       "<Figure size 1000x800 with 2 Axes>"
      ]
     },
     "metadata": {},
     "output_type": "display_data"
    }
   ],
   "source": [
    "# A heatmap is a good idea, while there are values not numberical\n",
    "# Select only numeric columns for the correlation matrix\n",
    "numeric_columns = train.select_dtypes(include=[np.number])\n",
    "\n",
    "# Create a heatmap of the correlation matrix\n",
    "# The heatmap reflects the correlation of each feature to survival\n",
    "# We can futher use this result to predict the missing data\n",
    "plt.figure(figsize=(10, 8))\n",
    "sns.heatmap(numeric_columns.corr(), annot=True, fmt=\".2f\", cmap=\"coolwarm\")\n",
    "plt.title(\"Correlation Matrix\")\n",
    "plt.show()"
   ]
  },
  {
   "cell_type": "code",
   "execution_count": 18,
   "id": "7a345bed",
   "metadata": {
    "execution": {
     "iopub.execute_input": "2024-09-05T20:41:12.558651Z",
     "iopub.status.busy": "2024-09-05T20:41:12.557867Z",
     "iopub.status.idle": "2024-09-05T20:41:12.562795Z",
     "shell.execute_reply": "2024-09-05T20:41:12.561578Z"
    },
    "papermill": {
     "duration": 0.028744,
     "end_time": "2024-09-05T20:41:12.565219",
     "exception": false,
     "start_time": "2024-09-05T20:41:12.536475",
     "status": "completed"
    },
    "tags": []
   },
   "outputs": [],
   "source": [
    "# Remaining Features are obvious and easy to konw the correlation to the survival result\n",
    "# So I use Chatgpt to generate the remaining visulizatoin directly"
   ]
  },
  {
   "cell_type": "code",
   "execution_count": 19,
   "id": "a269687d",
   "metadata": {
    "execution": {
     "iopub.execute_input": "2024-09-05T20:41:12.605948Z",
     "iopub.status.busy": "2024-09-05T20:41:12.605550Z",
     "iopub.status.idle": "2024-09-05T20:41:16.138912Z",
     "shell.execute_reply": "2024-09-05T20:41:16.137633Z"
    },
    "papermill": {
     "duration": 3.55773,
     "end_time": "2024-09-05T20:41:16.142346",
     "exception": false,
     "start_time": "2024-09-05T20:41:12.584616",
     "status": "completed"
    },
    "tags": []
   },
   "outputs": [
    {
     "name": "stderr",
     "output_type": "stream",
     "text": [
      "/opt/conda/lib/python3.10/site-packages/seaborn/_oldcore.py:1119: FutureWarning: use_inf_as_na option is deprecated and will be removed in a future version. Convert inf values to NaN before operating instead.\n",
      "  with pd.option_context('mode.use_inf_as_na', True):\n",
      "/opt/conda/lib/python3.10/site-packages/seaborn/_oldcore.py:1075: FutureWarning: When grouping with a length-1 list-like, you will need to pass a length-1 tuple to get_group in a future version of pandas. Pass `(name,)` instead of `name` to silence this warning.\n",
      "  data_subset = grouped_data.get_group(pd_key)\n",
      "/opt/conda/lib/python3.10/site-packages/seaborn/_oldcore.py:1119: FutureWarning: use_inf_as_na option is deprecated and will be removed in a future version. Convert inf values to NaN before operating instead.\n",
      "  with pd.option_context('mode.use_inf_as_na', True):\n",
      "/opt/conda/lib/python3.10/site-packages/seaborn/_oldcore.py:1075: FutureWarning: When grouping with a length-1 list-like, you will need to pass a length-1 tuple to get_group in a future version of pandas. Pass `(name,)` instead of `name` to silence this warning.\n",
      "  data_subset = grouped_data.get_group(pd_key)\n",
      "/opt/conda/lib/python3.10/site-packages/seaborn/_oldcore.py:1119: FutureWarning: use_inf_as_na option is deprecated and will be removed in a future version. Convert inf values to NaN before operating instead.\n",
      "  with pd.option_context('mode.use_inf_as_na', True):\n",
      "/opt/conda/lib/python3.10/site-packages/seaborn/_oldcore.py:1075: FutureWarning: When grouping with a length-1 list-like, you will need to pass a length-1 tuple to get_group in a future version of pandas. Pass `(name,)` instead of `name` to silence this warning.\n",
      "  data_subset = grouped_data.get_group(pd_key)\n",
      "/opt/conda/lib/python3.10/site-packages/seaborn/_oldcore.py:1075: FutureWarning: When grouping with a length-1 list-like, you will need to pass a length-1 tuple to get_group in a future version of pandas. Pass `(name,)` instead of `name` to silence this warning.\n",
      "  data_subset = grouped_data.get_group(pd_key)\n"
     ]
    },
    {
     "data": {
      "image/png": "[encoded data removed]",
      "text/plain": [
       "<Figure size 822.111x750 with 12 Axes>"
      ]
     },
     "metadata": {},
     "output_type": "display_data"
    }
   ],
   "source": [
    "sns.pairplot(train[['Age', 'Fare', 'Pclass', 'Survived']], hue='Survived', diag_kind='kde')\n",
    "plt.suptitle('Pair Plot of Key Features', y=1.02)\n",
    "plt.show()"
   ]
  },
  {
   "cell_type": "code",
   "execution_count": 20,
   "id": "b75ecc5b",
   "metadata": {
    "execution": {
     "iopub.execute_input": "2024-09-05T20:41:16.189699Z",
     "iopub.status.busy": "2024-09-05T20:41:16.189252Z",
     "iopub.status.idle": "2024-09-05T20:41:16.491344Z",
     "shell.execute_reply": "2024-09-05T20:41:16.490256Z"
    },
    "papermill": {
     "duration": 0.328938,
     "end_time": "2024-09-05T20:41:16.494177",
     "exception": false,
     "start_time": "2024-09-05T20:41:16.165239",
     "status": "completed"
    },
    "tags": []
   },
   "outputs": [
    {
     "data": {
      "image/png": "[encoded data removed]",
      "text/plain": [
       "<Figure size 1000x600 with 1 Axes>"
      ]
     },
     "metadata": {},
     "output_type": "display_data"
    }
   ],
   "source": [
    "plt.figure(figsize=(10, 6))\n",
    "sns.countplot(x='Pclass', hue='Survived', data=train, palette='Set1')\n",
    "plt.title('Class Distribution of Survived vs. Not Survived')\n",
    "plt.xlabel('Passenger Class')\n",
    "plt.ylabel('Count')\n",
    "plt.show()"
   ]
  },
  {
   "cell_type": "code",
   "execution_count": 21,
   "id": "76b1251f",
   "metadata": {
    "execution": {
     "iopub.execute_input": "2024-09-05T20:41:16.540831Z",
     "iopub.status.busy": "2024-09-05T20:41:16.540394Z",
     "iopub.status.idle": "2024-09-05T20:41:17.185572Z",
     "shell.execute_reply": "2024-09-05T20:41:17.184362Z"
    },
    "papermill": {
     "duration": 0.671277,
     "end_time": "2024-09-05T20:41:17.188219",
     "exception": false,
     "start_time": "2024-09-05T20:41:16.516942",
     "status": "completed"
    },
    "tags": []
   },
   "outputs": [
    {
     "data": {
      "text/plain": [
       "<Figure size 1000x600 with 0 Axes>"
      ]
     },
     "metadata": {},
     "output_type": "display_data"
    },
    {
     "data": {
      "image/png": "[encoded data removed]",
      "text/plain": [
       "<Figure size 1072.11x500 with 2 Axes>"
      ]
     },
     "metadata": {},
     "output_type": "display_data"
    }
   ],
   "source": [
    "plt.figure(figsize=(10, 6))\n",
    "sns.catplot(x='Pclass', hue='Survived', col='Sex', kind='count', data=train, height=5, aspect=1)\n",
    "plt.suptitle('Survival by Sex and Pclass', y=1.05)\n",
    "plt.show()"
   ]
  },
  {
   "cell_type": "code",
   "execution_count": 22,
   "id": "9926b864",
   "metadata": {
    "execution": {
     "iopub.execute_input": "2024-09-05T20:41:17.235633Z",
     "iopub.status.busy": "2024-09-05T20:41:17.235184Z",
     "iopub.status.idle": "2024-09-05T20:41:17.527469Z",
     "shell.execute_reply": "2024-09-05T20:41:17.526159Z"
    },
    "papermill": {
     "duration": 0.319287,
     "end_time": "2024-09-05T20:41:17.530180",
     "exception": false,
     "start_time": "2024-09-05T20:41:17.210893",
     "status": "completed"
    },
    "tags": []
   },
   "outputs": [
    {
     "data": {
      "image/png": "[encoded data removed]",
      "text/plain": [
       "<Figure size 800x600 with 1 Axes>"
      ]
     },
     "metadata": {},
     "output_type": "display_data"
    }
   ],
   "source": [
    "plt.figure(figsize=(8, 6))\n",
    "sns.countplot(x='Embarked', hue='Survived', data=train, palette='viridis')\n",
    "plt.title('Survival Count by Embarkation Point')\n",
    "plt.xlabel('Embarkation Point')\n",
    "plt.ylabel('Count')\n",
    "plt.show()"
   ]
  },
  {
   "cell_type": "markdown",
   "id": "17c7bf5e",
   "metadata": {
    "papermill": {
     "duration": 0.022893,
     "end_time": "2024-09-05T20:41:17.577846",
     "exception": false,
     "start_time": "2024-09-05T20:41:17.554953",
     "status": "completed"
    },
    "tags": []
   },
   "source": [
    "## Data Pre-Processing"
   ]
  },
  {
   "cell_type": "code",
   "execution_count": 23,
   "id": "361ac5ad",
   "metadata": {
    "execution": {
     "iopub.execute_input": "2024-09-05T20:41:17.684163Z",
     "iopub.status.busy": "2024-09-05T20:41:17.683676Z",
     "iopub.status.idle": "2024-09-05T20:41:17.689188Z",
     "shell.execute_reply": "2024-09-05T20:41:17.687853Z"
    },
    "papermill": {
     "duration": 0.089602,
     "end_time": "2024-09-05T20:41:17.691442",
     "exception": false,
     "start_time": "2024-09-05T20:41:17.601840",
     "status": "completed"
    },
    "tags": []
   },
   "outputs": [],
   "source": [
    "# In this problem, there are many values missing (NaN)\n",
    "# Usually the best way is first to predict the missing data according to the known part\n",
    "# Also, we need to lower the dimension for easier prediction of the final result (The PCA of course)"
   ]
  },
  {
   "cell_type": "code",
   "execution_count": 24,
   "id": "afb8d60f",
   "metadata": {
    "execution": {
     "iopub.execute_input": "2024-09-05T20:41:17.739812Z",
     "iopub.status.busy": "2024-09-05T20:41:17.739401Z",
     "iopub.status.idle": "2024-09-05T20:41:17.748443Z",
     "shell.execute_reply": "2024-09-05T20:41:17.747060Z"
    },
    "papermill": {
     "duration": 0.036906,
     "end_time": "2024-09-05T20:41:17.751449",
     "exception": false,
     "start_time": "2024-09-05T20:41:17.714543",
     "status": "completed"
    },
    "tags": []
   },
   "outputs": [
    {
     "name": "stdout",
     "output_type": "stream",
     "text": [
      "Age         177\n",
      "Cabin       687\n",
      "Embarked      2\n",
      "AgeGroup    177\n",
      "dtype: int64\n"
     ]
    }
   ],
   "source": [
    "# Let us fill the unknown data\n",
    "# Count missing values in each column\n",
    "\n",
    "# .sum is the function called to count the number of isnull (How many Positive)\n",
    "missing_values_train = train.isnull().sum()\n",
    "\n",
    "# Display columns with missing values\n",
    "print(missing_values_train[missing_values_train > 0])"
   ]
  },
  {
   "cell_type": "code",
   "execution_count": 25,
   "id": "0cd6c739",
   "metadata": {
    "execution": {
     "iopub.execute_input": "2024-09-05T20:41:17.801869Z",
     "iopub.status.busy": "2024-09-05T20:41:17.801439Z",
     "iopub.status.idle": "2024-09-05T20:41:17.809986Z",
     "shell.execute_reply": "2024-09-05T20:41:17.808837Z"
    },
    "papermill": {
     "duration": 0.036542,
     "end_time": "2024-09-05T20:41:17.812354",
     "exception": false,
     "start_time": "2024-09-05T20:41:17.775812",
     "status": "completed"
    },
    "tags": []
   },
   "outputs": [
    {
     "name": "stdout",
     "output_type": "stream",
     "text": [
      "Age         177\n",
      "Cabin       687\n",
      "Embarked      2\n",
      "AgeGroup    177\n",
      "dtype: int64\n"
     ]
    }
   ],
   "source": [
    "# Also the test data\n",
    "missing_values_test = train.isnull().sum()\n",
    "\n",
    "# Display columns with missing values\n",
    "print(missing_values_test[missing_values_test > 0])"
   ]
  },
  {
   "cell_type": "markdown",
   "id": "63dd0246",
   "metadata": {
    "papermill": {
     "duration": 0.023267,
     "end_time": "2024-09-05T20:41:17.859259",
     "exception": false,
     "start_time": "2024-09-05T20:41:17.835992",
     "status": "completed"
    },
    "tags": []
   },
   "source": [
    "### Cabin to Deck"
   ]
  },
  {
   "cell_type": "code",
   "execution_count": 26,
   "id": "8bc16e5f",
   "metadata": {
    "execution": {
     "iopub.execute_input": "2024-09-05T20:41:17.908977Z",
     "iopub.status.busy": "2024-09-05T20:41:17.908189Z",
     "iopub.status.idle": "2024-09-05T20:41:17.916480Z",
     "shell.execute_reply": "2024-09-05T20:41:17.915293Z"
    },
    "papermill": {
     "duration": 0.036439,
     "end_time": "2024-09-05T20:41:17.919227",
     "exception": false,
     "start_time": "2024-09-05T20:41:17.882788",
     "status": "completed"
    },
    "tags": []
   },
   "outputs": [],
   "source": [
    "# Remove the cabin data numbers and only keep the first letter\n",
    "train['Deck'] = train['Cabin'].str[0]\n",
    "test['Deck'] = test['Cabin'].str[0]\n",
    "\n",
    "# Drop the original Cabin column if it's no longer needed\n",
    "# train.drop('Cabin', axis=1, inplace=True)\n",
    "# test.drop('Cabin', axis=1, inplace=True)"
   ]
  },
  {
   "cell_type": "code",
   "execution_count": 27,
   "id": "01d519b8",
   "metadata": {
    "execution": {
     "iopub.execute_input": "2024-09-05T20:41:17.969312Z",
     "iopub.status.busy": "2024-09-05T20:41:17.968855Z",
     "iopub.status.idle": "2024-09-05T20:41:17.978701Z",
     "shell.execute_reply": "2024-09-05T20:41:17.977485Z"
    },
    "papermill": {
     "duration": 0.038287,
     "end_time": "2024-09-05T20:41:17.981384",
     "exception": false,
     "start_time": "2024-09-05T20:41:17.943097",
     "status": "completed"
    },
    "tags": []
   },
   "outputs": [
    {
     "name": "stdout",
     "output_type": "stream",
     "text": [
      "Most frequent port:  S\n"
     ]
    }
   ],
   "source": [
    "# Fill missing Deck information with the most common one Cabin (Mode Imputation)\n",
    "most_embarked = train.Embarked.dropna().mode()[0]\n",
    "print('Most frequent port: ',most_embarked)\n",
    "\n",
    "# Fill missing Embarked values in the train and test datasets without using inplace=True\n",
    "train['Embarked'] = train['Embarked'].fillna(most_embarked)\n",
    "test['Embarked'] = test['Embarked'].fillna(most_embarked)"
   ]
  },
  {
   "cell_type": "code",
   "execution_count": 28,
   "id": "d2be4b82",
   "metadata": {
    "execution": {
     "iopub.execute_input": "2024-09-05T20:41:18.030955Z",
     "iopub.status.busy": "2024-09-05T20:41:18.030462Z",
     "iopub.status.idle": "2024-09-05T20:41:18.338335Z",
     "shell.execute_reply": "2024-09-05T20:41:18.337107Z"
    },
    "papermill": {
     "duration": 0.336507,
     "end_time": "2024-09-05T20:41:18.341173",
     "exception": false,
     "start_time": "2024-09-05T20:41:18.004666",
     "status": "completed"
    },
    "tags": []
   },
   "outputs": [
    {
     "data": {
      "image/png": "[encoded data removed]",
      "text/plain": [
       "<Figure size 1000x600 with 1 Axes>"
      ]
     },
     "metadata": {},
     "output_type": "display_data"
    }
   ],
   "source": [
    "# Calculate survival rates by Deck\n",
    "deck_survival = train[['Deck', 'Survived']].groupby('Deck').mean()\n",
    "\n",
    "# Plot the survival rates by Deck\n",
    "import seaborn as sns\n",
    "import matplotlib.pyplot as plt\n",
    "\n",
    "plt.figure(figsize=(10, 6))\n",
    "sns.barplot(x=deck_survival.index, y=deck_survival['Survived'], palette='viridis')\n",
    "plt.title('Survival Rate by Deck')\n",
    "plt.xlabel('Deck')\n",
    "plt.ylabel('Survival Rate')\n",
    "plt.show()"
   ]
  },
  {
   "cell_type": "code",
   "execution_count": 29,
   "id": "e87e949f",
   "metadata": {
    "execution": {
     "iopub.execute_input": "2024-09-05T20:41:18.394715Z",
     "iopub.status.busy": "2024-09-05T20:41:18.394263Z",
     "iopub.status.idle": "2024-09-05T20:41:18.403435Z",
     "shell.execute_reply": "2024-09-05T20:41:18.401851Z"
    },
    "papermill": {
     "duration": 0.041361,
     "end_time": "2024-09-05T20:41:18.406527",
     "exception": false,
     "start_time": "2024-09-05T20:41:18.365166",
     "status": "completed"
    },
    "tags": []
   },
   "outputs": [],
   "source": [
    "# The Deck (Cabin) info including most NaN and correlates less to the Survival, so we just remove it\n",
    "# Drop the original Deck column if it's no longer needed\n",
    "train.drop('Deck', axis=1, inplace=True)\n",
    "test.drop('Deck', axis=1, inplace=True)"
   ]
  },
  {
   "cell_type": "markdown",
   "id": "5dc1e403",
   "metadata": {
    "papermill": {
     "duration": 0.023215,
     "end_time": "2024-09-05T20:41:18.453895",
     "exception": false,
     "start_time": "2024-09-05T20:41:18.430680",
     "status": "completed"
    },
    "tags": []
   },
   "source": [
    "### Fare to FareGroup"
   ]
  },
  {
   "cell_type": "code",
   "execution_count": 30,
   "id": "3ad38830",
   "metadata": {
    "execution": {
     "iopub.execute_input": "2024-09-05T20:41:18.504067Z",
     "iopub.status.busy": "2024-09-05T20:41:18.503583Z",
     "iopub.status.idle": "2024-09-05T20:41:18.731426Z",
     "shell.execute_reply": "2024-09-05T20:41:18.730063Z"
    },
    "papermill": {
     "duration": 0.255505,
     "end_time": "2024-09-05T20:41:18.734109",
     "exception": false,
     "start_time": "2024-09-05T20:41:18.478604",
     "status": "completed"
    },
    "tags": []
   },
   "outputs": [
    {
     "name": "stderr",
     "output_type": "stream",
     "text": [
      "/tmp/ipykernel_17/2581425968.py:8: FutureWarning: The default of observed=False is deprecated and will be changed to True in a future version of pandas. Pass observed=False to retain current behavior or observed=True to adopt the future default and silence this warning.\n",
      "  fare_grouped = train[['FareGroup', 'Survived']].groupby(['FareGroup'], as_index=False).mean().sort_values(by='Survived', ascending=False)\n",
      "/opt/conda/lib/python3.10/site-packages/seaborn/categorical.py:641: FutureWarning: The default of observed=False is deprecated and will be changed to True in a future version of pandas. Pass observed=False to retain current behavior or observed=True to adopt the future default and silence this warning.\n",
      "  grouped_vals = vals.groupby(grouper)\n"
     ]
    },
    {
     "data": {
      "image/png": "[encoded data removed]",
      "text/plain": [
       "<Figure size 1000x600 with 1 Axes>"
      ]
     },
     "metadata": {},
     "output_type": "display_data"
    }
   ],
   "source": [
    "# Step 1: Create FareGroup in the training set\n",
    "train['FareGroup'] = pd.qcut(train['Fare'], 4, labels=['Low', 'Medium', 'High', 'Very High'])\n",
    "\n",
    "# Step 2: Create FareGroup in the test set (this is essential to avoid the error)\n",
    "test['FareGroup'] = pd.qcut(test['Fare'], 4, labels=['Low', 'Medium', 'High', 'Very High'])\n",
    "\n",
    "# Step 3: Group by FareGroup and calculate survival rates in the training data\n",
    "fare_grouped = train[['FareGroup', 'Survived']].groupby(['FareGroup'], as_index=False).mean().sort_values(by='Survived', ascending=False)\n",
    "\n",
    "# Step 4: Plot the survival rate by Fare Group\n",
    "plt.figure(figsize=(10, 6))\n",
    "sns.barplot(x='FareGroup', y='Survived', data=fare_grouped, palette='viridis')\n",
    "plt.title('Survival Rate by Fare Group')\n",
    "plt.xlabel('Fare Group')\n",
    "plt.ylabel('Survival Rate')\n",
    "plt.show()"
   ]
  },
  {
   "cell_type": "markdown",
   "id": "d36d6e70",
   "metadata": {
    "papermill": {
     "duration": 0.023824,
     "end_time": "2024-09-05T20:41:18.782273",
     "exception": false,
     "start_time": "2024-09-05T20:41:18.758449",
     "status": "completed"
    },
    "tags": []
   },
   "source": [
    "## Feature Engineering"
   ]
  },
  {
   "cell_type": "code",
   "execution_count": 31,
   "id": "be238193",
   "metadata": {
    "execution": {
     "iopub.execute_input": "2024-09-05T20:41:18.833221Z",
     "iopub.status.busy": "2024-09-05T20:41:18.832761Z",
     "iopub.status.idle": "2024-09-05T20:41:19.268515Z",
     "shell.execute_reply": "2024-09-05T20:41:19.267311Z"
    },
    "papermill": {
     "duration": 0.463849,
     "end_time": "2024-09-05T20:41:19.270938",
     "exception": false,
     "start_time": "2024-09-05T20:41:18.807089",
     "status": "completed"
    },
    "tags": []
   },
   "outputs": [
    {
     "name": "stdout",
     "output_type": "stream",
     "text": [
      "   FamilySize  Survived\n",
      "3           4  0.724138\n",
      "2           3  0.578431\n",
      "1           2  0.552795\n",
      "6           7  0.333333\n",
      "0           1  0.303538\n",
      "4           5  0.200000\n",
      "5           6  0.136364\n",
      "7           8  0.000000\n",
      "8          11  0.000000\n"
     ]
    },
    {
     "data": {
      "image/png": "[encoded data removed]",
      "text/plain": [
       "<Figure size 1000x600 with 1 Axes>"
      ]
     },
     "metadata": {},
     "output_type": "display_data"
    }
   ],
   "source": [
    "# exploratory data analysis (EDA)\n",
    "train['FamilySize'] = train['SibSp'] + train['Parch'] + 1\n",
    "family_survival = train[['FamilySize', 'Survived']].groupby(['FamilySize'], as_index=False).mean().sort_values(by='Survived', ascending=False)\n",
    "print(family_survival)\n",
    "\n",
    "plt.figure(figsize=(10, 6))\n",
    "sns.barplot(x='FamilySize', y='Survived', data=family_survival, palette='viridis')\n",
    "plt.title('Survival Rate by Family Size')\n",
    "plt.xlabel('Family Size')\n",
    "plt.ylabel('Survival Rate')\n",
    "plt.show()"
   ]
  },
  {
   "cell_type": "code",
   "execution_count": 32,
   "id": "4efc3807",
   "metadata": {
    "execution": {
     "iopub.execute_input": "2024-09-05T20:41:19.324433Z",
     "iopub.status.busy": "2024-09-05T20:41:19.323964Z",
     "iopub.status.idle": "2024-09-05T20:41:19.330996Z",
     "shell.execute_reply": "2024-09-05T20:41:19.329838Z"
    },
    "papermill": {
     "duration": 0.037436,
     "end_time": "2024-09-05T20:41:19.333624",
     "exception": false,
     "start_time": "2024-09-05T20:41:19.296188",
     "status": "completed"
    },
    "tags": []
   },
   "outputs": [],
   "source": [
    "test['FamilySize'] = test['SibSp'] + test['Parch'] + 1"
   ]
  },
  {
   "cell_type": "markdown",
   "id": "43a0bd86",
   "metadata": {
    "papermill": {
     "duration": 0.025338,
     "end_time": "2024-09-05T20:41:19.383512",
     "exception": false,
     "start_time": "2024-09-05T20:41:19.358174",
     "status": "completed"
    },
    "tags": []
   },
   "source": [
    "## Predict the Missing Data"
   ]
  },
  {
   "cell_type": "markdown",
   "id": "d758708b",
   "metadata": {
    "papermill": {
     "duration": 0.024139,
     "end_time": "2024-09-05T20:41:19.434628",
     "exception": false,
     "start_time": "2024-09-05T20:41:19.410489",
     "status": "completed"
    },
    "tags": []
   },
   "source": [
    "### AgeGroup"
   ]
  },
  {
   "cell_type": "code",
   "execution_count": 33,
   "id": "9b0f60e9",
   "metadata": {
    "execution": {
     "iopub.execute_input": "2024-09-05T20:41:19.485785Z",
     "iopub.status.busy": "2024-09-05T20:41:19.484987Z",
     "iopub.status.idle": "2024-09-05T20:41:20.330380Z",
     "shell.execute_reply": "2024-09-05T20:41:20.329051Z"
    },
    "papermill": {
     "duration": 0.873951,
     "end_time": "2024-09-05T20:41:20.333002",
     "exception": false,
     "start_time": "2024-09-05T20:41:19.459051",
     "status": "completed"
    },
    "tags": []
   },
   "outputs": [],
   "source": [
    "# Step 1: Impute missing Age values\n",
    "# Let us start with an easy one such that we do not need the futher tune of the parameters\n",
    "\n",
    "from sklearn.ensemble import RandomForestRegressor\n",
    "\n",
    "# Select the features for imputation\n",
    "age_features = ['Pclass', 'SibSp', 'Parch', 'Fare']\n",
    "age_train = train[train['Age'].notnull()][age_features]\n",
    "age_target = train[train['Age'].notnull()]['Age']\n",
    "\n",
    "# Train a Random Forest Regressor\n",
    "rf = RandomForestRegressor(n_estimators=100, random_state=42)\n",
    "rf.fit(age_train, age_target)\n",
    "\n",
    "# Predict missing Age values\n",
    "age_missing = train[train['Age'].isnull()][age_features]\n",
    "train.loc[train['Age'].isnull(), 'Age'] = rf.predict(age_missing)\n",
    "\n",
    "# Use the same features for the test set\n",
    "age_missing_test = test[test['Age'].isnull()][age_features]\n",
    "\n",
    "# Predict missing Age values in the test set using the model trained on the training data\n",
    "test.loc[test['Age'].isnull(), 'Age'] = rf.predict(age_missing_test)"
   ]
  },
  {
   "cell_type": "code",
   "execution_count": 34,
   "id": "4d32b3c6",
   "metadata": {
    "execution": {
     "iopub.execute_input": "2024-09-05T20:41:20.384841Z",
     "iopub.status.busy": "2024-09-05T20:41:20.384062Z",
     "iopub.status.idle": "2024-09-05T20:41:20.402431Z",
     "shell.execute_reply": "2024-09-05T20:41:20.401348Z"
    },
    "papermill": {
     "duration": 0.047566,
     "end_time": "2024-09-05T20:41:20.405315",
     "exception": false,
     "start_time": "2024-09-05T20:41:20.357749",
     "status": "completed"
    },
    "tags": []
   },
   "outputs": [],
   "source": [
    "# Step 2: Create AgeGroup feature\n",
    "\n",
    "# Set the agegroup and remove the age\n",
    "# Age cannot be sorted directly\n",
    "# Define age bins\n",
    "bins = [0, 12, 18, 35, 60, 100]\n",
    "labels = ['Child', 'Teen', 'Young Adult', 'Adult', 'Senior']\n",
    "\n",
    "# Create a new column with age groups\n",
    "train['AgeGroup'] = pd.cut(train['Age'], bins=bins, labels=labels)\n",
    "\n",
    "# Group by the new AgeGroup column\n",
    "\n",
    "age_grouped = train[['AgeGroup', 'Survived']].groupby(['AgeGroup'], as_index=False, observed=True).mean().sort_values(by='Survived', ascending=False)\n",
    "\n",
    "# Apply the same transformation to the test dataset\n",
    "test['AgeGroup'] = pd.cut(test['Age'], bins=bins, labels=labels)\n",
    "\n",
    "# Drop the Age column\n",
    "train.drop('Age', axis=1, inplace=True)\n",
    "test.drop('Age', axis=1, inplace=True)"
   ]
  },
  {
   "cell_type": "markdown",
   "id": "d7151871",
   "metadata": {
    "papermill": {
     "duration": 0.02513,
     "end_time": "2024-09-05T20:41:20.455740",
     "exception": false,
     "start_time": "2024-09-05T20:41:20.430610",
     "status": "completed"
    },
    "tags": []
   },
   "source": [
    "##  FareGroup"
   ]
  },
  {
   "cell_type": "code",
   "execution_count": 35,
   "id": "ba9c0a59",
   "metadata": {
    "execution": {
     "iopub.execute_input": "2024-09-05T20:41:20.509092Z",
     "iopub.status.busy": "2024-09-05T20:41:20.508636Z",
     "iopub.status.idle": "2024-09-05T20:41:20.519503Z",
     "shell.execute_reply": "2024-09-05T20:41:20.518314Z"
    },
    "papermill": {
     "duration": 0.040731,
     "end_time": "2024-09-05T20:41:20.522026",
     "exception": false,
     "start_time": "2024-09-05T20:41:20.481295",
     "status": "completed"
    },
    "tags": []
   },
   "outputs": [
    {
     "name": "stdout",
     "output_type": "stream",
     "text": [
      "Most frequent fare:  Medium\n"
     ]
    }
   ],
   "source": [
    "# Fill missing Deck information with the most common one Cabin (Mode Imputation)\n",
    "most_fare = train.FareGroup.dropna().mode()[0]\n",
    "print('Most frequent fare: ',most_fare)\n",
    "\n",
    "# Fill missing Embarked values in the train and test datasets without using inplace=True\n",
    "train['FareGroup'] = train['FareGroup'].fillna(most_fare)\n",
    "test['FareGroup'] = test['FareGroup'].fillna(most_fare)"
   ]
  },
  {
   "cell_type": "markdown",
   "id": "c019bca1",
   "metadata": {
    "papermill": {
     "duration": 0.024723,
     "end_time": "2024-09-05T20:41:20.571642",
     "exception": false,
     "start_time": "2024-09-05T20:41:20.546919",
     "status": "completed"
    },
    "tags": []
   },
   "source": [
    "# Loading Data"
   ]
  },
  {
   "cell_type": "code",
   "execution_count": 36,
   "id": "8de86f1e",
   "metadata": {
    "execution": {
     "iopub.execute_input": "2024-09-05T20:41:20.624156Z",
     "iopub.status.busy": "2024-09-05T20:41:20.623681Z",
     "iopub.status.idle": "2024-09-05T20:41:20.628784Z",
     "shell.execute_reply": "2024-09-05T20:41:20.627627Z"
    },
    "papermill": {
     "duration": 0.034602,
     "end_time": "2024-09-05T20:41:20.631329",
     "exception": false,
     "start_time": "2024-09-05T20:41:20.596727",
     "status": "completed"
    },
    "tags": []
   },
   "outputs": [],
   "source": [
    "# Checking the data info again"
   ]
  },
  {
   "cell_type": "code",
   "execution_count": 37,
   "id": "972a9d6d",
   "metadata": {
    "execution": {
     "iopub.execute_input": "2024-09-05T20:41:20.684140Z",
     "iopub.status.busy": "2024-09-05T20:41:20.682969Z",
     "iopub.status.idle": "2024-09-05T20:41:20.697418Z",
     "shell.execute_reply": "2024-09-05T20:41:20.696203Z"
    },
    "papermill": {
     "duration": 0.043579,
     "end_time": "2024-09-05T20:41:20.699808",
     "exception": false,
     "start_time": "2024-09-05T20:41:20.656229",
     "status": "completed"
    },
    "tags": []
   },
   "outputs": [
    {
     "name": "stdout",
     "output_type": "stream",
     "text": [
      "<class 'pandas.core.frame.DataFrame'>\n",
      "RangeIndex: 891 entries, 0 to 890\n",
      "Data columns (total 14 columns):\n",
      " #   Column       Non-Null Count  Dtype   \n",
      "---  ------       --------------  -----   \n",
      " 0   PassengerId  891 non-null    int64   \n",
      " 1   Survived     891 non-null    int64   \n",
      " 2   Pclass       891 non-null    int64   \n",
      " 3   Name         891 non-null    object  \n",
      " 4   Sex          891 non-null    object  \n",
      " 5   SibSp        891 non-null    int64   \n",
      " 6   Parch        891 non-null    int64   \n",
      " 7   Ticket       891 non-null    object  \n",
      " 8   Fare         891 non-null    float64 \n",
      " 9   Cabin        204 non-null    object  \n",
      " 10  Embarked     891 non-null    object  \n",
      " 11  AgeGroup     891 non-null    category\n",
      " 12  FareGroup    891 non-null    category\n",
      " 13  FamilySize   891 non-null    int64   \n",
      "dtypes: category(2), float64(1), int64(6), object(5)\n",
      "memory usage: 85.8+ KB\n"
     ]
    }
   ],
   "source": [
    "train.info()"
   ]
  },
  {
   "cell_type": "code",
   "execution_count": 38,
   "id": "d2f08825",
   "metadata": {
    "execution": {
     "iopub.execute_input": "2024-09-05T20:41:20.757597Z",
     "iopub.status.busy": "2024-09-05T20:41:20.756972Z",
     "iopub.status.idle": "2024-09-05T20:41:20.779588Z",
     "shell.execute_reply": "2024-09-05T20:41:20.778148Z"
    },
    "papermill": {
     "duration": 0.054761,
     "end_time": "2024-09-05T20:41:20.782728",
     "exception": false,
     "start_time": "2024-09-05T20:41:20.727967",
     "status": "completed"
    },
    "tags": []
   },
   "outputs": [
    {
     "data": {
      "text/html": [
       "<div>\n",
       "<style scoped>\n",
       "    .dataframe tbody tr th:only-of-type {\n",
       "        vertical-align: middle;\n",
       "    }\n",
       "\n",
       "    .dataframe tbody tr th {\n",
       "        vertical-align: top;\n",
       "    }\n",
       "\n",
       "    .dataframe thead th {\n",
       "        text-align: right;\n",
       "    }\n",
       "</style>\n",
       "<table border=\"1\" class=\"dataframe\">\n",
       "  <thead>\n",
       "    <tr style=\"text-align: right;\">\n",
       "      <th></th>\n",
       "      <th>PassengerId</th>\n",
       "      <th>Survived</th>\n",
       "      <th>Pclass</th>\n",
       "      <th>Name</th>\n",
       "      <th>Sex</th>\n",
       "      <th>SibSp</th>\n",
       "      <th>Parch</th>\n",
       "      <th>Ticket</th>\n",
       "      <th>Fare</th>\n",
       "      <th>Cabin</th>\n",
       "      <th>Embarked</th>\n",
       "      <th>AgeGroup</th>\n",
       "      <th>FareGroup</th>\n",
       "      <th>FamilySize</th>\n",
       "    </tr>\n",
       "  </thead>\n",
       "  <tbody>\n",
       "    <tr>\n",
       "      <th>0</th>\n",
       "      <td>1</td>\n",
       "      <td>0</td>\n",
       "      <td>3</td>\n",
       "      <td>Braund, Mr. Owen Harris</td>\n",
       "      <td>male</td>\n",
       "      <td>1</td>\n",
       "      <td>0</td>\n",
       "      <td>A/5 21171</td>\n",
       "      <td>7.2500</td>\n",
       "      <td>NaN</td>\n",
       "      <td>S</td>\n",
       "      <td>Young Adult</td>\n",
       "      <td>Low</td>\n",
       "      <td>2</td>\n",
       "    </tr>\n",
       "    <tr>\n",
       "      <th>1</th>\n",
       "      <td>2</td>\n",
       "      <td>1</td>\n",
       "      <td>1</td>\n",
       "      <td>Cumings, Mrs. John Bradley (Florence Briggs Th...</td>\n",
       "      <td>female</td>\n",
       "      <td>1</td>\n",
       "      <td>0</td>\n",
       "      <td>PC 17599</td>\n",
       "      <td>71.2833</td>\n",
       "      <td>C85</td>\n",
       "      <td>C</td>\n",
       "      <td>Adult</td>\n",
       "      <td>Very High</td>\n",
       "      <td>2</td>\n",
       "    </tr>\n",
       "    <tr>\n",
       "      <th>2</th>\n",
       "      <td>3</td>\n",
       "      <td>1</td>\n",
       "      <td>3</td>\n",
       "      <td>Heikkinen, Miss. Laina</td>\n",
       "      <td>female</td>\n",
       "      <td>0</td>\n",
       "      <td>0</td>\n",
       "      <td>STON/O2. 3101282</td>\n",
       "      <td>7.9250</td>\n",
       "      <td>NaN</td>\n",
       "      <td>S</td>\n",
       "      <td>Young Adult</td>\n",
       "      <td>Medium</td>\n",
       "      <td>1</td>\n",
       "    </tr>\n",
       "    <tr>\n",
       "      <th>3</th>\n",
       "      <td>4</td>\n",
       "      <td>1</td>\n",
       "      <td>1</td>\n",
       "      <td>Futrelle, Mrs. Jacques Heath (Lily May Peel)</td>\n",
       "      <td>female</td>\n",
       "      <td>1</td>\n",
       "      <td>0</td>\n",
       "      <td>113803</td>\n",
       "      <td>53.1000</td>\n",
       "      <td>C123</td>\n",
       "      <td>S</td>\n",
       "      <td>Young Adult</td>\n",
       "      <td>Very High</td>\n",
       "      <td>2</td>\n",
       "    </tr>\n",
       "    <tr>\n",
       "      <th>4</th>\n",
       "      <td>5</td>\n",
       "      <td>0</td>\n",
       "      <td>3</td>\n",
       "      <td>Allen, Mr. William Henry</td>\n",
       "      <td>male</td>\n",
       "      <td>0</td>\n",
       "      <td>0</td>\n",
       "      <td>373450</td>\n",
       "      <td>8.0500</td>\n",
       "      <td>NaN</td>\n",
       "      <td>S</td>\n",
       "      <td>Young Adult</td>\n",
       "      <td>Medium</td>\n",
       "      <td>1</td>\n",
       "    </tr>\n",
       "  </tbody>\n",
       "</table>\n",
       "</div>"
      ],
      "text/plain": [
       "   PassengerId  Survived  Pclass  \\\n",
       "0            1         0       3   \n",
       "1            2         1       1   \n",
       "2            3         1       3   \n",
       "3            4         1       1   \n",
       "4            5         0       3   \n",
       "\n",
       "                                                Name     Sex  SibSp  Parch  \\\n",
       "0                            Braund, Mr. Owen Harris    male      1      0   \n",
       "1  Cumings, Mrs. John Bradley (Florence Briggs Th...  female      1      0   \n",
       "2                             Heikkinen, Miss. Laina  female      0      0   \n",
       "3       Futrelle, Mrs. Jacques Heath (Lily May Peel)  female      1      0   \n",
       "4                           Allen, Mr. William Henry    male      0      0   \n",
       "\n",
       "             Ticket     Fare Cabin Embarked     AgeGroup  FareGroup  \\\n",
       "0         A/5 21171   7.2500   NaN        S  Young Adult        Low   \n",
       "1          PC 17599  71.2833   C85        C        Adult  Very High   \n",
       "2  STON/O2. 3101282   7.9250   NaN        S  Young Adult     Medium   \n",
       "3            113803  53.1000  C123        S  Young Adult  Very High   \n",
       "4            373450   8.0500   NaN        S  Young Adult     Medium   \n",
       "\n",
       "   FamilySize  \n",
       "0           2  \n",
       "1           2  \n",
       "2           1  \n",
       "3           2  \n",
       "4           1  "
      ]
     },
     "execution_count": 38,
     "metadata": {},
     "output_type": "execute_result"
    }
   ],
   "source": [
    "train.head()"
   ]
  },
  {
   "cell_type": "markdown",
   "id": "2a757e52",
   "metadata": {
    "papermill": {
     "duration": 0.025461,
     "end_time": "2024-09-05T20:41:20.837356",
     "exception": false,
     "start_time": "2024-09-05T20:41:20.811895",
     "status": "completed"
    },
    "tags": []
   },
   "source": [
    "## Encoding"
   ]
  },
  {
   "cell_type": "code",
   "execution_count": 39,
   "id": "36a5111c",
   "metadata": {
    "execution": {
     "iopub.execute_input": "2024-09-05T20:41:20.890214Z",
     "iopub.status.busy": "2024-09-05T20:41:20.889749Z",
     "iopub.status.idle": "2024-09-05T20:41:20.898300Z",
     "shell.execute_reply": "2024-09-05T20:41:20.897126Z"
    },
    "papermill": {
     "duration": 0.037314,
     "end_time": "2024-09-05T20:41:20.900550",
     "exception": false,
     "start_time": "2024-09-05T20:41:20.863236",
     "status": "completed"
    },
    "tags": []
   },
   "outputs": [],
   "source": [
    "# Encoding 'Sex'\n",
    "train['Sex'] = train['Sex'].map({'male': 0, 'female': 1}).astype(int)\n",
    "test['Sex'] = test['Sex'].map({'male': 0, 'female': 1}).astype(int)"
   ]
  },
  {
   "cell_type": "code",
   "execution_count": 40,
   "id": "9c9df45e",
   "metadata": {
    "execution": {
     "iopub.execute_input": "2024-09-05T20:41:20.954713Z",
     "iopub.status.busy": "2024-09-05T20:41:20.954264Z",
     "iopub.status.idle": "2024-09-05T20:41:20.964407Z",
     "shell.execute_reply": "2024-09-05T20:41:20.963235Z"
    },
    "papermill": {
     "duration": 0.040757,
     "end_time": "2024-09-05T20:41:20.966965",
     "exception": false,
     "start_time": "2024-09-05T20:41:20.926208",
     "status": "completed"
    },
    "tags": []
   },
   "outputs": [],
   "source": [
    "# Encoding 'AgeGroup'\n",
    "age_map = {'Child': 0, 'Teen': 1, 'Young Adult': 2, 'Adult': 3, 'Senior': 4}\n",
    "train['AgeGroup'] = train['AgeGroup'].map(age_map).astype(int)\n",
    "test['AgeGroup'] = test['AgeGroup'].map(age_map).astype(int)"
   ]
  },
  {
   "cell_type": "code",
   "execution_count": 41,
   "id": "b174fa55",
   "metadata": {
    "execution": {
     "iopub.execute_input": "2024-09-05T20:41:21.019638Z",
     "iopub.status.busy": "2024-09-05T20:41:21.019205Z",
     "iopub.status.idle": "2024-09-05T20:41:21.027981Z",
     "shell.execute_reply": "2024-09-05T20:41:21.026566Z"
    },
    "papermill": {
     "duration": 0.038291,
     "end_time": "2024-09-05T20:41:21.030606",
     "exception": false,
     "start_time": "2024-09-05T20:41:20.992315",
     "status": "completed"
    },
    "tags": []
   },
   "outputs": [],
   "source": [
    "# Encoding for 'Embarked'\n",
    "train['Embarked'] = train['Embarked'].map({'S': 0, 'C': 1, 'Q': 2}).astype(int)\n",
    "test['Embarked'] = test['Embarked'].map({'S': 0, 'C': 1, 'Q': 2}).astype(int)"
   ]
  },
  {
   "cell_type": "code",
   "execution_count": 42,
   "id": "187b2107",
   "metadata": {
    "execution": {
     "iopub.execute_input": "2024-09-05T20:41:21.083959Z",
     "iopub.status.busy": "2024-09-05T20:41:21.083558Z",
     "iopub.status.idle": "2024-09-05T20:41:21.092731Z",
     "shell.execute_reply": "2024-09-05T20:41:21.091433Z"
    },
    "papermill": {
     "duration": 0.038988,
     "end_time": "2024-09-05T20:41:21.095357",
     "exception": false,
     "start_time": "2024-09-05T20:41:21.056369",
     "status": "completed"
    },
    "tags": []
   },
   "outputs": [],
   "source": [
    "# Encoding 'FareGroup'\n",
    "fare_map = {'Low': 0, 'Medium': 1, 'High': 2, 'Very High': 3}\n",
    "train['FareGroup'] = train['FareGroup'].map(fare_map).astype(int)\n",
    "test['FareGroup'] = test['FareGroup'].map(fare_map).astype(int)"
   ]
  },
  {
   "cell_type": "markdown",
   "id": "68c7a43b",
   "metadata": {
    "papermill": {
     "duration": 0.025335,
     "end_time": "2024-09-05T20:41:21.145703",
     "exception": false,
     "start_time": "2024-09-05T20:41:21.120368",
     "status": "completed"
    },
    "tags": []
   },
   "source": [
    "## Features "
   ]
  },
  {
   "cell_type": "code",
   "execution_count": 43,
   "id": "b5486b8f",
   "metadata": {
    "execution": {
     "iopub.execute_input": "2024-09-05T20:41:21.201860Z",
     "iopub.status.busy": "2024-09-05T20:41:21.201404Z",
     "iopub.status.idle": "2024-09-05T20:41:21.209494Z",
     "shell.execute_reply": "2024-09-05T20:41:21.207504Z"
    },
    "papermill": {
     "duration": 0.041256,
     "end_time": "2024-09-05T20:41:21.212902",
     "exception": false,
     "start_time": "2024-09-05T20:41:21.171646",
     "status": "completed"
    },
    "tags": []
   },
   "outputs": [],
   "source": [
    "# Combining everything above, the needed feathers including:\n",
    "core_features = ['Sex','AgeGroup','SibSp','Parch','Embarked','FamilySize','FareGroup']"
   ]
  },
  {
   "cell_type": "code",
   "execution_count": 44,
   "id": "73f4aa02",
   "metadata": {
    "execution": {
     "iopub.execute_input": "2024-09-05T20:41:21.267067Z",
     "iopub.status.busy": "2024-09-05T20:41:21.266590Z",
     "iopub.status.idle": "2024-09-05T20:41:21.283427Z",
     "shell.execute_reply": "2024-09-05T20:41:21.282126Z"
    },
    "papermill": {
     "duration": 0.047838,
     "end_time": "2024-09-05T20:41:21.287726",
     "exception": false,
     "start_time": "2024-09-05T20:41:21.239888",
     "status": "completed"
    },
    "tags": []
   },
   "outputs": [
    {
     "data": {
      "text/html": [
       "<div>\n",
       "<style scoped>\n",
       "    .dataframe tbody tr th:only-of-type {\n",
       "        vertical-align: middle;\n",
       "    }\n",
       "\n",
       "    .dataframe tbody tr th {\n",
       "        vertical-align: top;\n",
       "    }\n",
       "\n",
       "    .dataframe thead th {\n",
       "        text-align: right;\n",
       "    }\n",
       "</style>\n",
       "<table border=\"1\" class=\"dataframe\">\n",
       "  <thead>\n",
       "    <tr style=\"text-align: right;\">\n",
       "      <th></th>\n",
       "      <th>PassengerId</th>\n",
       "      <th>Survived</th>\n",
       "      <th>Pclass</th>\n",
       "      <th>Name</th>\n",
       "      <th>Sex</th>\n",
       "      <th>SibSp</th>\n",
       "      <th>Parch</th>\n",
       "      <th>Ticket</th>\n",
       "      <th>Fare</th>\n",
       "      <th>Cabin</th>\n",
       "      <th>Embarked</th>\n",
       "      <th>AgeGroup</th>\n",
       "      <th>FareGroup</th>\n",
       "      <th>FamilySize</th>\n",
       "    </tr>\n",
       "  </thead>\n",
       "  <tbody>\n",
       "    <tr>\n",
       "      <th>0</th>\n",
       "      <td>1</td>\n",
       "      <td>0</td>\n",
       "      <td>3</td>\n",
       "      <td>Braund, Mr. Owen Harris</td>\n",
       "      <td>0</td>\n",
       "      <td>1</td>\n",
       "      <td>0</td>\n",
       "      <td>A/5 21171</td>\n",
       "      <td>7.2500</td>\n",
       "      <td>NaN</td>\n",
       "      <td>0</td>\n",
       "      <td>2</td>\n",
       "      <td>0</td>\n",
       "      <td>2</td>\n",
       "    </tr>\n",
       "    <tr>\n",
       "      <th>1</th>\n",
       "      <td>2</td>\n",
       "      <td>1</td>\n",
       "      <td>1</td>\n",
       "      <td>Cumings, Mrs. John Bradley (Florence Briggs Th...</td>\n",
       "      <td>1</td>\n",
       "      <td>1</td>\n",
       "      <td>0</td>\n",
       "      <td>PC 17599</td>\n",
       "      <td>71.2833</td>\n",
       "      <td>C85</td>\n",
       "      <td>1</td>\n",
       "      <td>3</td>\n",
       "      <td>3</td>\n",
       "      <td>2</td>\n",
       "    </tr>\n",
       "    <tr>\n",
       "      <th>2</th>\n",
       "      <td>3</td>\n",
       "      <td>1</td>\n",
       "      <td>3</td>\n",
       "      <td>Heikkinen, Miss. Laina</td>\n",
       "      <td>1</td>\n",
       "      <td>0</td>\n",
       "      <td>0</td>\n",
       "      <td>STON/O2. 3101282</td>\n",
       "      <td>7.9250</td>\n",
       "      <td>NaN</td>\n",
       "      <td>0</td>\n",
       "      <td>2</td>\n",
       "      <td>1</td>\n",
       "      <td>1</td>\n",
       "    </tr>\n",
       "    <tr>\n",
       "      <th>3</th>\n",
       "      <td>4</td>\n",
       "      <td>1</td>\n",
       "      <td>1</td>\n",
       "      <td>Futrelle, Mrs. Jacques Heath (Lily May Peel)</td>\n",
       "      <td>1</td>\n",
       "      <td>1</td>\n",
       "      <td>0</td>\n",
       "      <td>113803</td>\n",
       "      <td>53.1000</td>\n",
       "      <td>C123</td>\n",
       "      <td>0</td>\n",
       "      <td>2</td>\n",
       "      <td>3</td>\n",
       "      <td>2</td>\n",
       "    </tr>\n",
       "    <tr>\n",
       "      <th>4</th>\n",
       "      <td>5</td>\n",
       "      <td>0</td>\n",
       "      <td>3</td>\n",
       "      <td>Allen, Mr. William Henry</td>\n",
       "      <td>0</td>\n",
       "      <td>0</td>\n",
       "      <td>0</td>\n",
       "      <td>373450</td>\n",
       "      <td>8.0500</td>\n",
       "      <td>NaN</td>\n",
       "      <td>0</td>\n",
       "      <td>2</td>\n",
       "      <td>1</td>\n",
       "      <td>1</td>\n",
       "    </tr>\n",
       "  </tbody>\n",
       "</table>\n",
       "</div>"
      ],
      "text/plain": [
       "   PassengerId  Survived  Pclass  \\\n",
       "0            1         0       3   \n",
       "1            2         1       1   \n",
       "2            3         1       3   \n",
       "3            4         1       1   \n",
       "4            5         0       3   \n",
       "\n",
       "                                                Name  Sex  SibSp  Parch  \\\n",
       "0                            Braund, Mr. Owen Harris    0      1      0   \n",
       "1  Cumings, Mrs. John Bradley (Florence Briggs Th...    1      1      0   \n",
       "2                             Heikkinen, Miss. Laina    1      0      0   \n",
       "3       Futrelle, Mrs. Jacques Heath (Lily May Peel)    1      1      0   \n",
       "4                           Allen, Mr. William Henry    0      0      0   \n",
       "\n",
       "             Ticket     Fare Cabin  Embarked  AgeGroup  FareGroup  FamilySize  \n",
       "0         A/5 21171   7.2500   NaN         0         2          0           2  \n",
       "1          PC 17599  71.2833   C85         1         3          3           2  \n",
       "2  STON/O2. 3101282   7.9250   NaN         0         2          1           1  \n",
       "3            113803  53.1000  C123         0         2          3           2  \n",
       "4            373450   8.0500   NaN         0         2          1           1  "
      ]
     },
     "execution_count": 44,
     "metadata": {},
     "output_type": "execute_result"
    }
   ],
   "source": [
    "train.head()"
   ]
  },
  {
   "cell_type": "code",
   "execution_count": 45,
   "id": "9204457f",
   "metadata": {
    "execution": {
     "iopub.execute_input": "2024-09-05T20:41:21.347781Z",
     "iopub.status.busy": "2024-09-05T20:41:21.347350Z",
     "iopub.status.idle": "2024-09-05T20:41:21.352497Z",
     "shell.execute_reply": "2024-09-05T20:41:21.351152Z"
    },
    "papermill": {
     "duration": 0.035457,
     "end_time": "2024-09-05T20:41:21.354813",
     "exception": false,
     "start_time": "2024-09-05T20:41:21.319356",
     "status": "completed"
    },
    "tags": []
   },
   "outputs": [],
   "source": [
    "# Principle Component Anaylsis is not needed in this problem"
   ]
  },
  {
   "cell_type": "markdown",
   "id": "156bb4f0",
   "metadata": {
    "papermill": {
     "duration": 0.028371,
     "end_time": "2024-09-05T20:41:21.408826",
     "exception": false,
     "start_time": "2024-09-05T20:41:21.380455",
     "status": "completed"
    },
    "tags": []
   },
   "source": [
    "# Model"
   ]
  },
  {
   "cell_type": "code",
   "execution_count": 46,
   "id": "5d668b8a",
   "metadata": {
    "execution": {
     "iopub.execute_input": "2024-09-05T20:41:21.482992Z",
     "iopub.status.busy": "2024-09-05T20:41:21.482401Z",
     "iopub.status.idle": "2024-09-05T20:41:21.494418Z",
     "shell.execute_reply": "2024-09-05T20:41:21.493309Z"
    },
    "papermill": {
     "duration": 0.0542,
     "end_time": "2024-09-05T20:41:21.497321",
     "exception": false,
     "start_time": "2024-09-05T20:41:21.443121",
     "status": "completed"
    },
    "tags": []
   },
   "outputs": [],
   "source": [
    "# Basic Models\n",
    "from sklearn.linear_model import LogisticRegression\n",
    "from sklearn.svm import SVC, LinearSVC\n",
    "from sklearn.ensemble import RandomForestClassifier\n",
    "from sklearn.neighbors import KNeighborsClassifier\n",
    "from sklearn.naive_bayes import GaussianNB\n",
    "from sklearn.linear_model import Perceptron\n",
    "from sklearn.linear_model import SGDClassifier\n",
    "from sklearn.tree import DecisionTreeClassifier"
   ]
  },
  {
   "cell_type": "code",
   "execution_count": 47,
   "id": "5ea76c0e",
   "metadata": {
    "execution": {
     "iopub.execute_input": "2024-09-05T20:41:21.554589Z",
     "iopub.status.busy": "2024-09-05T20:41:21.554198Z",
     "iopub.status.idle": "2024-09-05T20:41:23.073924Z",
     "shell.execute_reply": "2024-09-05T20:41:23.072596Z"
    },
    "papermill": {
     "duration": 1.550264,
     "end_time": "2024-09-05T20:41:23.076727",
     "exception": false,
     "start_time": "2024-09-05T20:41:21.526463",
     "status": "completed"
    },
    "tags": []
   },
   "outputs": [],
   "source": [
    "# Ensemble Models\n",
    "from xgboost import XGBClassifier\n",
    "from lightgbm import LGBMClassifier\n",
    "from catboost import CatBoostClassifier\n",
    "from sklearn.neural_network import MLPClassifier"
   ]
  },
  {
   "cell_type": "code",
   "execution_count": 48,
   "id": "122389b6",
   "metadata": {
    "execution": {
     "iopub.execute_input": "2024-09-05T20:41:23.130216Z",
     "iopub.status.busy": "2024-09-05T20:41:23.129156Z",
     "iopub.status.idle": "2024-09-05T20:41:23.143056Z",
     "shell.execute_reply": "2024-09-05T20:41:23.141834Z"
    },
    "papermill": {
     "duration": 0.043226,
     "end_time": "2024-09-05T20:41:23.145541",
     "exception": false,
     "start_time": "2024-09-05T20:41:23.102315",
     "status": "completed"
    },
    "tags": []
   },
   "outputs": [],
   "source": [
    "# In this problem we use the XGBoost model\n",
    "from sklearn.model_selection import train_test_split\n",
    "\n",
    "# Assuming 'train' is your DataFrame and 'Survived' is the target\n",
    "X = train.drop(['PassengerId', 'Survived', 'Name', 'Ticket', 'Cabin'], axis=1)  # Drop irrelevant features\n",
    "y = train['Survived']\n",
    "\n",
    "# Split the data into training and validation sets\n",
    "X_train, X_val, y_train, y_val = train_test_split(X, y, test_size=0.2, random_state=42)"
   ]
  },
  {
   "cell_type": "markdown",
   "id": "81d2c380",
   "metadata": {
    "papermill": {
     "duration": 0.025692,
     "end_time": "2024-09-05T20:41:23.196517",
     "exception": false,
     "start_time": "2024-09-05T20:41:23.170825",
     "status": "completed"
    },
    "tags": []
   },
   "source": [
    "## Logistic Regression"
   ]
  },
  {
   "cell_type": "code",
   "execution_count": 49,
   "id": "d9799bdc",
   "metadata": {
    "execution": {
     "iopub.execute_input": "2024-09-05T20:41:23.250361Z",
     "iopub.status.busy": "2024-09-05T20:41:23.249916Z",
     "iopub.status.idle": "2024-09-05T20:41:23.290776Z",
     "shell.execute_reply": "2024-09-05T20:41:23.289479Z"
    },
    "papermill": {
     "duration": 0.070694,
     "end_time": "2024-09-05T20:41:23.293703",
     "exception": false,
     "start_time": "2024-09-05T20:41:23.223009",
     "status": "completed"
    },
    "tags": []
   },
   "outputs": [
    {
     "name": "stdout",
     "output_type": "stream",
     "text": [
      "Logistic Regression Validation Accuracy: 0.8101\n"
     ]
    },
    {
     "name": "stderr",
     "output_type": "stream",
     "text": [
      "/opt/conda/lib/python3.10/site-packages/sklearn/linear_model/_logistic.py:458: ConvergenceWarning: lbfgs failed to converge (status=1):\n",
      "STOP: TOTAL NO. of ITERATIONS REACHED LIMIT.\n",
      "\n",
      "Increase the number of iterations (max_iter) or scale the data as shown in:\n",
      "    https://scikit-learn.org/stable/modules/preprocessing.html\n",
      "Please also refer to the documentation for alternative solver options:\n",
      "    https://scikit-learn.org/stable/modules/linear_model.html#logistic-regression\n",
      "  n_iter_i = _check_optimize_result(\n"
     ]
    }
   ],
   "source": [
    "from sklearn.linear_model import LogisticRegression\n",
    "from sklearn.metrics import accuracy_score\n",
    "\n",
    "# Initialize a Logistic Regression classifier\n",
    "logreg_model = LogisticRegression()\n",
    "\n",
    "# Train the model\n",
    "logreg_model.fit(X_train, y_train)\n",
    "\n",
    "# Make predictions on the validation set\n",
    "y_pred_logreg = logreg_model.predict(X_val)\n",
    "\n",
    "# Evaluate the model\n",
    "accuracy_logreg = accuracy_score(y_val, y_pred_logreg)\n",
    "print(f'Logistic Regression Validation Accuracy: {accuracy_logreg:.4f}')"
   ]
  },
  {
   "cell_type": "markdown",
   "id": "295480ba",
   "metadata": {
    "papermill": {
     "duration": 0.025156,
     "end_time": "2024-09-05T20:41:23.344356",
     "exception": false,
     "start_time": "2024-09-05T20:41:23.319200",
     "status": "completed"
    },
    "tags": []
   },
   "source": [
    "## Support Vector Classifier (SVC)"
   ]
  },
  {
   "cell_type": "code",
   "execution_count": 50,
   "id": "ac31a90e",
   "metadata": {
    "execution": {
     "iopub.execute_input": "2024-09-05T20:41:23.398114Z",
     "iopub.status.busy": "2024-09-05T20:41:23.397539Z",
     "iopub.status.idle": "2024-09-05T20:41:23.434521Z",
     "shell.execute_reply": "2024-09-05T20:41:23.433145Z"
    },
    "papermill": {
     "duration": 0.06675,
     "end_time": "2024-09-05T20:41:23.437118",
     "exception": false,
     "start_time": "2024-09-05T20:41:23.370368",
     "status": "completed"
    },
    "tags": []
   },
   "outputs": [
    {
     "name": "stdout",
     "output_type": "stream",
     "text": [
      "SVC Validation Accuracy: 0.6648\n"
     ]
    }
   ],
   "source": [
    "from sklearn.svm import SVC\n",
    "from sklearn.metrics import accuracy_score\n",
    "\n",
    "# Initialize an SVC classifier\n",
    "svc_model = SVC()\n",
    "\n",
    "# Train the model\n",
    "svc_model.fit(X_train, y_train)\n",
    "\n",
    "# Make predictions on the validation set\n",
    "y_pred_svc = svc_model.predict(X_val)\n",
    "\n",
    "# Evaluate the model\n",
    "accuracy_svc = accuracy_score(y_val, y_pred_svc)\n",
    "print(f'SVC Validation Accuracy: {accuracy_svc:.4f}')"
   ]
  },
  {
   "cell_type": "markdown",
   "id": "b8a584ea",
   "metadata": {
    "papermill": {
     "duration": 0.025991,
     "end_time": "2024-09-05T20:41:23.490155",
     "exception": false,
     "start_time": "2024-09-05T20:41:23.464164",
     "status": "completed"
    },
    "tags": []
   },
   "source": [
    "## Linear Support Vector Classifier (LinearSVC)"
   ]
  },
  {
   "cell_type": "code",
   "execution_count": 51,
   "id": "89c185d7",
   "metadata": {
    "execution": {
     "iopub.execute_input": "2024-09-05T20:41:23.544756Z",
     "iopub.status.busy": "2024-09-05T20:41:23.543694Z",
     "iopub.status.idle": "2024-09-05T20:41:23.601676Z",
     "shell.execute_reply": "2024-09-05T20:41:23.600123Z"
    },
    "papermill": {
     "duration": 0.087929,
     "end_time": "2024-09-05T20:41:23.604414",
     "exception": false,
     "start_time": "2024-09-05T20:41:23.516485",
     "status": "completed"
    },
    "tags": []
   },
   "outputs": [
    {
     "name": "stdout",
     "output_type": "stream",
     "text": [
      "LinearSVC Validation Accuracy: 0.7877\n"
     ]
    },
    {
     "name": "stderr",
     "output_type": "stream",
     "text": [
      "/opt/conda/lib/python3.10/site-packages/sklearn/svm/_base.py:1244: ConvergenceWarning: Liblinear failed to converge, increase the number of iterations.\n",
      "  warnings.warn(\n"
     ]
    }
   ],
   "source": [
    "from sklearn.svm import LinearSVC\n",
    "from sklearn.metrics import accuracy_score\n",
    "\n",
    "# Initialize a LinearSVC classifier\n",
    "linear_svc_model = LinearSVC()\n",
    "\n",
    "# Train the model\n",
    "linear_svc_model.fit(X_train, y_train)\n",
    "\n",
    "# Make predictions on the validation set\n",
    "y_pred_linear_svc = linear_svc_model.predict(X_val)\n",
    "\n",
    "# Evaluate the model\n",
    "accuracy_linear_svc = accuracy_score(y_val, y_pred_linear_svc)\n",
    "print(f'LinearSVC Validation Accuracy: {accuracy_linear_svc:.4f}')"
   ]
  },
  {
   "cell_type": "markdown",
   "id": "dafe41a3",
   "metadata": {
    "papermill": {
     "duration": 0.025523,
     "end_time": "2024-09-05T20:41:23.656655",
     "exception": false,
     "start_time": "2024-09-05T20:41:23.631132",
     "status": "completed"
    },
    "tags": []
   },
   "source": [
    "## Random Forest Classifier"
   ]
  },
  {
   "cell_type": "code",
   "execution_count": 52,
   "id": "9cb5fd92",
   "metadata": {
    "execution": {
     "iopub.execute_input": "2024-09-05T20:41:23.711010Z",
     "iopub.status.busy": "2024-09-05T20:41:23.709962Z",
     "iopub.status.idle": "2024-09-05T20:41:23.943453Z",
     "shell.execute_reply": "2024-09-05T20:41:23.942137Z"
    },
    "papermill": {
     "duration": 0.263211,
     "end_time": "2024-09-05T20:41:23.945998",
     "exception": false,
     "start_time": "2024-09-05T20:41:23.682787",
     "status": "completed"
    },
    "tags": []
   },
   "outputs": [
    {
     "name": "stdout",
     "output_type": "stream",
     "text": [
      "Random Forest Validation Accuracy: 0.8324\n"
     ]
    }
   ],
   "source": [
    "from sklearn.ensemble import RandomForestClassifier\n",
    "from sklearn.metrics import accuracy_score\n",
    "\n",
    "# Initialize a Random Forest classifier\n",
    "rf_model = RandomForestClassifier()\n",
    "\n",
    "# Train the model\n",
    "rf_model.fit(X_train, y_train)\n",
    "\n",
    "# Make predictions on the validation set\n",
    "y_pred_rf = rf_model.predict(X_val)\n",
    "\n",
    "# Evaluate the model\n",
    "accuracy_rf = accuracy_score(y_val, y_pred_rf)\n",
    "print(f'Random Forest Validation Accuracy: {accuracy_rf:.4f}')"
   ]
  },
  {
   "cell_type": "markdown",
   "id": "aba4e0bf",
   "metadata": {
    "papermill": {
     "duration": 0.026515,
     "end_time": "2024-09-05T20:41:24.000122",
     "exception": false,
     "start_time": "2024-09-05T20:41:23.973607",
     "status": "completed"
    },
    "tags": []
   },
   "source": [
    "## K-Nearest Neighbors (KNN)"
   ]
  },
  {
   "cell_type": "code",
   "execution_count": 53,
   "id": "6dec228b",
   "metadata": {
    "execution": {
     "iopub.execute_input": "2024-09-05T20:41:24.057087Z",
     "iopub.status.busy": "2024-09-05T20:41:24.056612Z",
     "iopub.status.idle": "2024-09-05T20:41:24.083703Z",
     "shell.execute_reply": "2024-09-05T20:41:24.082459Z"
    },
    "papermill": {
     "duration": 0.058249,
     "end_time": "2024-09-05T20:41:24.086405",
     "exception": false,
     "start_time": "2024-09-05T20:41:24.028156",
     "status": "completed"
    },
    "tags": []
   },
   "outputs": [
    {
     "name": "stdout",
     "output_type": "stream",
     "text": [
      "KNN Validation Accuracy: 0.7654\n"
     ]
    }
   ],
   "source": [
    "from sklearn.neighbors import KNeighborsClassifier\n",
    "from sklearn.metrics import accuracy_score\n",
    "\n",
    "# Initialize a K-Nearest Neighbors classifier\n",
    "knn_model = KNeighborsClassifier()\n",
    "\n",
    "# Train the model\n",
    "knn_model.fit(X_train, y_train)\n",
    "\n",
    "# Make predictions on the validation set\n",
    "y_pred_knn = knn_model.predict(X_val)\n",
    "\n",
    "# Evaluate the model\n",
    "accuracy_knn = accuracy_score(y_val, y_pred_knn)\n",
    "print(f'KNN Validation Accuracy: {accuracy_knn:.4f}')"
   ]
  },
  {
   "cell_type": "markdown",
   "id": "9f151963",
   "metadata": {
    "papermill": {
     "duration": 0.026116,
     "end_time": "2024-09-05T20:41:24.138867",
     "exception": false,
     "start_time": "2024-09-05T20:41:24.112751",
     "status": "completed"
    },
    "tags": []
   },
   "source": [
    "## Gaussian Naive Bayes"
   ]
  },
  {
   "cell_type": "code",
   "execution_count": 54,
   "id": "12671d20",
   "metadata": {
    "execution": {
     "iopub.execute_input": "2024-09-05T20:41:24.193828Z",
     "iopub.status.busy": "2024-09-05T20:41:24.193429Z",
     "iopub.status.idle": "2024-09-05T20:41:24.208422Z",
     "shell.execute_reply": "2024-09-05T20:41:24.206981Z"
    },
    "papermill": {
     "duration": 0.045009,
     "end_time": "2024-09-05T20:41:24.211017",
     "exception": false,
     "start_time": "2024-09-05T20:41:24.166008",
     "status": "completed"
    },
    "tags": []
   },
   "outputs": [
    {
     "name": "stdout",
     "output_type": "stream",
     "text": [
      "Gaussian Naive Bayes Validation Accuracy: 0.7709\n"
     ]
    }
   ],
   "source": [
    "from sklearn.naive_bayes import GaussianNB\n",
    "from sklearn.metrics import accuracy_score\n",
    "\n",
    "# Initialize a Gaussian Naive Bayes classifier\n",
    "gnb_model = GaussianNB()\n",
    "\n",
    "# Train the model\n",
    "gnb_model.fit(X_train, y_train)\n",
    "\n",
    "# Make predictions on the validation set\n",
    "y_pred_gnb = gnb_model.predict(X_val)\n",
    "\n",
    "# Evaluate the model\n",
    "accuracy_gnb = accuracy_score(y_val, y_pred_gnb)\n",
    "print(f'Gaussian Naive Bayes Validation Accuracy: {accuracy_gnb:.4f}')"
   ]
  },
  {
   "cell_type": "markdown",
   "id": "db36814d",
   "metadata": {
    "papermill": {
     "duration": 0.027525,
     "end_time": "2024-09-05T20:41:24.265121",
     "exception": false,
     "start_time": "2024-09-05T20:41:24.237596",
     "status": "completed"
    },
    "tags": []
   },
   "source": [
    "## Perceptron"
   ]
  },
  {
   "cell_type": "code",
   "execution_count": 55,
   "id": "ed36e31d",
   "metadata": {
    "execution": {
     "iopub.execute_input": "2024-09-05T20:41:24.322290Z",
     "iopub.status.busy": "2024-09-05T20:41:24.321827Z",
     "iopub.status.idle": "2024-09-05T20:41:24.339722Z",
     "shell.execute_reply": "2024-09-05T20:41:24.338220Z"
    },
    "papermill": {
     "duration": 0.051284,
     "end_time": "2024-09-05T20:41:24.342689",
     "exception": false,
     "start_time": "2024-09-05T20:41:24.291405",
     "status": "completed"
    },
    "tags": []
   },
   "outputs": [
    {
     "name": "stdout",
     "output_type": "stream",
     "text": [
      "Perceptron Validation Accuracy: 0.5922\n"
     ]
    }
   ],
   "source": [
    "from sklearn.linear_model import Perceptron\n",
    "from sklearn.metrics import accuracy_score\n",
    "\n",
    "# Initialize a Perceptron classifier\n",
    "perceptron_model = Perceptron()\n",
    "\n",
    "# Train the model\n",
    "perceptron_model.fit(X_train, y_train)\n",
    "\n",
    "# Make predictions on the validation set\n",
    "y_pred_perceptron = perceptron_model.predict(X_val)\n",
    "\n",
    "# Evaluate the model\n",
    "accuracy_perceptron = accuracy_score(y_val, y_pred_perceptron)\n",
    "print(f'Perceptron Validation Accuracy: {accuracy_perceptron:.4f}')"
   ]
  },
  {
   "cell_type": "markdown",
   "id": "3f69188f",
   "metadata": {
    "papermill": {
     "duration": 0.026746,
     "end_time": "2024-09-05T20:41:24.395570",
     "exception": false,
     "start_time": "2024-09-05T20:41:24.368824",
     "status": "completed"
    },
    "tags": []
   },
   "source": [
    "## Stochastic Gradient Descent (SGDClassifier)"
   ]
  },
  {
   "cell_type": "code",
   "execution_count": 56,
   "id": "2119f843",
   "metadata": {
    "execution": {
     "iopub.execute_input": "2024-09-05T20:41:24.459670Z",
     "iopub.status.busy": "2024-09-05T20:41:24.458267Z",
     "iopub.status.idle": "2024-09-05T20:41:24.475337Z",
     "shell.execute_reply": "2024-09-05T20:41:24.473729Z"
    },
    "papermill": {
     "duration": 0.048907,
     "end_time": "2024-09-05T20:41:24.478196",
     "exception": false,
     "start_time": "2024-09-05T20:41:24.429289",
     "status": "completed"
    },
    "tags": []
   },
   "outputs": [
    {
     "name": "stdout",
     "output_type": "stream",
     "text": [
      "SGDClassifier Validation Accuracy: 0.5866\n"
     ]
    }
   ],
   "source": [
    "from sklearn.linear_model import SGDClassifier\n",
    "from sklearn.metrics import accuracy_score\n",
    "\n",
    "# Initialize an SGDClassifier\n",
    "sgd_model = SGDClassifier()\n",
    "\n",
    "# Train the model\n",
    "sgd_model.fit(X_train, y_train)\n",
    "\n",
    "# Make predictions on the validation set\n",
    "y_pred_sgd = sgd_model.predict(X_val)\n",
    "\n",
    "# Evaluate the model\n",
    "accuracy_sgd = accuracy_score(y_val, y_pred_sgd)\n",
    "print(f'SGDClassifier Validation Accuracy: {accuracy_sgd:.4f}')"
   ]
  },
  {
   "cell_type": "markdown",
   "id": "0de751c8",
   "metadata": {
    "papermill": {
     "duration": 0.028178,
     "end_time": "2024-09-05T20:41:24.534641",
     "exception": false,
     "start_time": "2024-09-05T20:41:24.506463",
     "status": "completed"
    },
    "tags": []
   },
   "source": [
    "## Decision Tree Classifier"
   ]
  },
  {
   "cell_type": "code",
   "execution_count": 57,
   "id": "7bc9b3e9",
   "metadata": {
    "execution": {
     "iopub.execute_input": "2024-09-05T20:41:24.593325Z",
     "iopub.status.busy": "2024-09-05T20:41:24.592794Z",
     "iopub.status.idle": "2024-09-05T20:41:24.609028Z",
     "shell.execute_reply": "2024-09-05T20:41:24.607352Z"
    },
    "papermill": {
     "duration": 0.048864,
     "end_time": "2024-09-05T20:41:24.612404",
     "exception": false,
     "start_time": "2024-09-05T20:41:24.563540",
     "status": "completed"
    },
    "tags": []
   },
   "outputs": [
    {
     "name": "stdout",
     "output_type": "stream",
     "text": [
      "Decision Tree Validation Accuracy: 0.8045\n"
     ]
    }
   ],
   "source": [
    "from sklearn.tree import DecisionTreeClassifier\n",
    "from sklearn.metrics import accuracy_score\n",
    "\n",
    "# Initialize a Decision Tree classifier\n",
    "dt_model = DecisionTreeClassifier()\n",
    "\n",
    "# Train the model\n",
    "dt_model.fit(X_train, y_train)\n",
    "\n",
    "# Make predictions on the validation set\n",
    "y_pred_dt = dt_model.predict(X_val)\n",
    "\n",
    "# Evaluate the model\n",
    "accuracy_dt = accuracy_score(y_val, y_pred_dt)\n",
    "print(f'Decision Tree Validation Accuracy: {accuracy_dt:.4f}')"
   ]
  },
  {
   "cell_type": "markdown",
   "id": "2b799661",
   "metadata": {
    "papermill": {
     "duration": 0.027284,
     "end_time": "2024-09-05T20:41:24.669975",
     "exception": false,
     "start_time": "2024-09-05T20:41:24.642691",
     "status": "completed"
    },
    "tags": []
   },
   "source": [
    "## XGBoost Classifier"
   ]
  },
  {
   "cell_type": "code",
   "execution_count": 58,
   "id": "ffc8026e",
   "metadata": {
    "execution": {
     "iopub.execute_input": "2024-09-05T20:41:24.727475Z",
     "iopub.status.busy": "2024-09-05T20:41:24.726992Z",
     "iopub.status.idle": "2024-09-05T20:41:24.849280Z",
     "shell.execute_reply": "2024-09-05T20:41:24.848125Z"
    },
    "papermill": {
     "duration": 0.153595,
     "end_time": "2024-09-05T20:41:24.852048",
     "exception": false,
     "start_time": "2024-09-05T20:41:24.698453",
     "status": "completed"
    },
    "tags": []
   },
   "outputs": [
    {
     "name": "stdout",
     "output_type": "stream",
     "text": [
      "Validation Accuracy: 0.8212\n"
     ]
    }
   ],
   "source": [
    "import xgboost as xgb\n",
    "from sklearn.metrics import accuracy_score\n",
    "\n",
    "# Initialize an XGBoost classifier\n",
    "xgb_model = xgb.XGBClassifier(use_label_encoder=False, eval_metric='logloss')\n",
    "\n",
    "# Train the model\n",
    "xgb_model.fit(X_train, y_train)\n",
    "\n",
    "# Make predictions on the validation set\n",
    "y_pred = xgb_model.predict(X_val)\n",
    "\n",
    "# Evaluate the model\n",
    "accuracy = accuracy_score(y_val, y_pred)\n",
    "print(f'Validation Accuracy: {accuracy:.4f}')"
   ]
  },
  {
   "cell_type": "code",
   "execution_count": 59,
   "id": "7db2d14b",
   "metadata": {
    "execution": {
     "iopub.execute_input": "2024-09-05T20:41:24.908520Z",
     "iopub.status.busy": "2024-09-05T20:41:24.908114Z",
     "iopub.status.idle": "2024-09-05T20:42:23.168463Z",
     "shell.execute_reply": "2024-09-05T20:42:23.167076Z"
    },
    "papermill": {
     "duration": 58.317645,
     "end_time": "2024-09-05T20:42:23.196273",
     "exception": false,
     "start_time": "2024-09-05T20:41:24.878628",
     "status": "completed"
    },
    "tags": []
   },
   "outputs": [
    {
     "name": "stdout",
     "output_type": "stream",
     "text": [
      "Best parameters: {'gamma': 0.1, 'learning_rate': 0.1, 'max_depth': 6, 'min_child_weight': 5, 'n_estimators': 200, 'subsample': 0.6}\n",
      "Best Validation Accuracy: 0.8268\n"
     ]
    }
   ],
   "source": [
    "# If needed, we can also consider to tune the  paramters\n",
    "from sklearn.model_selection import GridSearchCV\n",
    "\n",
    "# Define a grid of hyperparameters\n",
    "param_grid = {\n",
    "    'max_depth': [4, 5, 6],\n",
    "    'learning_rate': [0.01, 0.05, 0.1],\n",
    "    'n_estimators': [50, 100, 200],\n",
    "    'subsample': [0.6, 0.8],\n",
    "    'gamma': [0, 0.1, 0.2],\n",
    "    'min_child_weight': [1, 3, 5]\n",
    "}\n",
    "\n",
    "# Initialize the GridSearchCV object\n",
    "grid_search = GridSearchCV(xgb_model, param_grid, scoring='accuracy', cv=5, n_jobs=-1)\n",
    "\n",
    "# Fit the model\n",
    "grid_search.fit(X_train, y_train)\n",
    "\n",
    "# Best parameters found by GridSearchCV\n",
    "best_params = grid_search.best_params_\n",
    "print(f'Best parameters: {best_params}')\n",
    "\n",
    "# Retrain with best parameters\n",
    "best_xgb_model = grid_search.best_estimator_\n",
    "y_pred_best = best_xgb_model.predict(X_val)\n",
    "best_accuracy = accuracy_score(y_val, y_pred_best)\n",
    "print(f'Best Validation Accuracy: {best_accuracy:.4f}')"
   ]
  },
  {
   "cell_type": "code",
   "execution_count": 60,
   "id": "2477436d",
   "metadata": {
    "execution": {
     "iopub.execute_input": "2024-09-05T20:42:23.250371Z",
     "iopub.status.busy": "2024-09-05T20:42:23.249857Z",
     "iopub.status.idle": "2024-09-05T20:42:23.523110Z",
     "shell.execute_reply": "2024-09-05T20:42:23.521923Z"
    },
    "papermill": {
     "duration": 0.303525,
     "end_time": "2024-09-05T20:42:23.525751",
     "exception": false,
     "start_time": "2024-09-05T20:42:23.222226",
     "status": "completed"
    },
    "tags": []
   },
   "outputs": [
    {
     "data": {
      "image/png": "[encoded data removed]",
      "text/plain": [
       "<Figure size 640x480 with 1 Axes>"
      ]
     },
     "metadata": {},
     "output_type": "display_data"
    }
   ],
   "source": [
    "# Feature importance\n",
    "xgb.plot_importance(best_xgb_model)\n",
    "plt.show()"
   ]
  },
  {
   "cell_type": "code",
   "execution_count": 61,
   "id": "868e8960",
   "metadata": {
    "execution": {
     "iopub.execute_input": "2024-09-05T20:42:23.581720Z",
     "iopub.status.busy": "2024-09-05T20:42:23.580909Z",
     "iopub.status.idle": "2024-09-05T20:42:23.600854Z",
     "shell.execute_reply": "2024-09-05T20:42:23.599557Z"
    },
    "papermill": {
     "duration": 0.050879,
     "end_time": "2024-09-05T20:42:23.603518",
     "exception": false,
     "start_time": "2024-09-05T20:42:23.552639",
     "status": "completed"
    },
    "tags": []
   },
   "outputs": [],
   "source": [
    "# Prepare the test data by ensuring the same order of columns as in the training set\n",
    "X_test = test[['Pclass', 'Sex', 'SibSp', 'Parch', 'Fare', 'Embarked', 'AgeGroup', 'FareGroup', 'FamilySize']]\n",
    "\n",
    "# Predict using the trained model\n",
    "test['Survived'] = best_xgb_model.predict(X_test)\n",
    "\n",
    "# Prepare the submission file\n",
    "submission = test[['PassengerId', 'Survived']]\n",
    "submission.to_csv('submission.csv', index=False)"
   ]
  }
 ],
 "metadata": {
  "kaggle": {
   "accelerator": "none",
   "dataSources": [
    {
     "databundleVersionId": 26502,
     "sourceId": 3136,
     "sourceType": "competition"
    }
   ],
   "isGpuEnabled": false,
   "isInternetEnabled": false,
   "language": "python",
   "sourceType": "notebook"
  },
  "kernelspec": {
   "display_name": "Python 3",
   "language": "python",
   "name": "python3"
  },
  "language_info": {
   "codemirror_mode": {
    "name": "ipython",
    "version": 3
   },
   "file_extension": ".py",
   "mimetype": "text/x-python",
   "name": "python",
   "nbconvert_exporter": "python",
   "pygments_lexer": "ipython3",
   "version": "3.10.14"
  },
  "papermill": {
   "default_parameters": {},
   "duration": 84.404978,
   "end_time": "2024-09-05T20:42:26.253352",
   "environment_variables": {},
   "exception": null,
   "input_path": "__notebook__.ipynb",
   "output_path": "__notebook__.ipynb",
   "parameters": {},
   "start_time": "2024-09-05T20:41:01.848374",
   "version": "2.6.0"
  }
 },
 "nbformat": 4,
 "nbformat_minor": 5
}
